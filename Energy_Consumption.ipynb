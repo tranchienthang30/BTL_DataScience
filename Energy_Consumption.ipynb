{
 "cells": [
  {
   "cell_type": "markdown",
   "id": "2990c9a8",
   "metadata": {},
   "source": [
    "# 1.0 Cài đặt thư viện"
   ]
  },
  {
   "cell_type": "code",
   "execution_count": 3,
   "id": "35e912cc",
   "metadata": {},
   "outputs": [
    {
     "name": "stderr",
     "output_type": "stream",
     "text": [
      "\n",
      "A module that was compiled using NumPy 1.x cannot be run in\n",
      "NumPy 2.2.4 as it may crash. To support both 1.x and 2.x\n",
      "versions of NumPy, modules must be compiled with NumPy 2.0.\n",
      "Some module may need to rebuild instead e.g. with 'pybind11>=2.12'.\n",
      "\n",
      "If you are a user of the module, the easiest solution will be to\n",
      "downgrade to 'numpy<2' or try to upgrade the affected module.\n",
      "We expect that some modules will need time to support NumPy 2.\n",
      "\n",
      "Traceback (most recent call last):  File \"<frozen runpy>\", line 198, in _run_module_as_main\n",
      "  File \"<frozen runpy>\", line 88, in _run_code\n",
      "  File \"C:\\Users\\khiem\\AppData\\Roaming\\Python\\Python312\\site-packages\\ipykernel_launcher.py\", line 18, in <module>\n",
      "    app.launch_new_instance()\n",
      "  File \"C:\\Users\\khiem\\AppData\\Roaming\\Python\\Python312\\site-packages\\traitlets\\config\\application.py\", line 1075, in launch_instance\n",
      "    app.start()\n",
      "  File \"C:\\Users\\khiem\\AppData\\Roaming\\Python\\Python312\\site-packages\\ipykernel\\kernelapp.py\", line 739, in start\n",
      "    self.io_loop.start()\n",
      "  File \"C:\\Users\\khiem\\AppData\\Roaming\\Python\\Python312\\site-packages\\tornado\\platform\\asyncio.py\", line 205, in start\n",
      "    self.asyncio_loop.run_forever()\n",
      "  File \"c:\\Users\\khiem\\anaconda3\\Lib\\asyncio\\base_events.py\", line 641, in run_forever\n",
      "    self._run_once()\n",
      "  File \"c:\\Users\\khiem\\anaconda3\\Lib\\asyncio\\base_events.py\", line 1986, in _run_once\n",
      "    handle._run()\n",
      "  File \"c:\\Users\\khiem\\anaconda3\\Lib\\asyncio\\events.py\", line 88, in _run\n",
      "    self._context.run(self._callback, *self._args)\n",
      "  File \"C:\\Users\\khiem\\AppData\\Roaming\\Python\\Python312\\site-packages\\ipykernel\\kernelbase.py\", line 545, in dispatch_queue\n",
      "    await self.process_one()\n",
      "  File \"C:\\Users\\khiem\\AppData\\Roaming\\Python\\Python312\\site-packages\\ipykernel\\kernelbase.py\", line 534, in process_one\n",
      "    await dispatch(*args)\n",
      "  File \"C:\\Users\\khiem\\AppData\\Roaming\\Python\\Python312\\site-packages\\ipykernel\\kernelbase.py\", line 437, in dispatch_shell\n",
      "    await result\n",
      "  File \"C:\\Users\\khiem\\AppData\\Roaming\\Python\\Python312\\site-packages\\ipykernel\\ipkernel.py\", line 362, in execute_request\n",
      "    await super().execute_request(stream, ident, parent)\n",
      "  File \"C:\\Users\\khiem\\AppData\\Roaming\\Python\\Python312\\site-packages\\ipykernel\\kernelbase.py\", line 778, in execute_request\n",
      "    reply_content = await reply_content\n",
      "  File \"C:\\Users\\khiem\\AppData\\Roaming\\Python\\Python312\\site-packages\\ipykernel\\ipkernel.py\", line 449, in do_execute\n",
      "    res = shell.run_cell(\n",
      "  File \"C:\\Users\\khiem\\AppData\\Roaming\\Python\\Python312\\site-packages\\ipykernel\\zmqshell.py\", line 549, in run_cell\n",
      "    return super().run_cell(*args, **kwargs)\n",
      "  File \"C:\\Users\\khiem\\AppData\\Roaming\\Python\\Python312\\site-packages\\IPython\\core\\interactiveshell.py\", line 3077, in run_cell\n",
      "    result = self._run_cell(\n",
      "  File \"C:\\Users\\khiem\\AppData\\Roaming\\Python\\Python312\\site-packages\\IPython\\core\\interactiveshell.py\", line 3132, in _run_cell\n",
      "    result = runner(coro)\n",
      "  File \"C:\\Users\\khiem\\AppData\\Roaming\\Python\\Python312\\site-packages\\IPython\\core\\async_helpers.py\", line 128, in _pseudo_sync_runner\n",
      "    coro.send(None)\n",
      "  File \"C:\\Users\\khiem\\AppData\\Roaming\\Python\\Python312\\site-packages\\IPython\\core\\interactiveshell.py\", line 3336, in run_cell_async\n",
      "    has_raised = await self.run_ast_nodes(code_ast.body, cell_name,\n",
      "  File \"C:\\Users\\khiem\\AppData\\Roaming\\Python\\Python312\\site-packages\\IPython\\core\\interactiveshell.py\", line 3519, in run_ast_nodes\n",
      "    if await self.run_code(code, result, async_=asy):\n",
      "  File \"C:\\Users\\khiem\\AppData\\Roaming\\Python\\Python312\\site-packages\\IPython\\core\\interactiveshell.py\", line 3579, in run_code\n",
      "    exec(code_obj, self.user_global_ns, self.user_ns)\n",
      "  File \"C:\\Users\\khiem\\AppData\\Local\\Temp\\ipykernel_28884\\190572246.py\", line 1, in <module>\n",
      "    import pandas as pd\n",
      "  File \"C:\\Users\\khiem\\AppData\\Roaming\\Python\\Python312\\site-packages\\pandas\\__init__.py\", line 39, in <module>\n",
      "    from pandas.compat import (\n",
      "  File \"C:\\Users\\khiem\\AppData\\Roaming\\Python\\Python312\\site-packages\\pandas\\compat\\__init__.py\", line 27, in <module>\n",
      "    from pandas.compat.pyarrow import (\n",
      "  File \"C:\\Users\\khiem\\AppData\\Roaming\\Python\\Python312\\site-packages\\pandas\\compat\\pyarrow.py\", line 8, in <module>\n",
      "    import pyarrow as pa\n",
      "  File \"c:\\Users\\khiem\\anaconda3\\Lib\\site-packages\\pyarrow\\__init__.py\", line 65, in <module>\n",
      "    import pyarrow.lib as _lib\n"
     ]
    },
    {
     "ename": "ImportError",
     "evalue": "\nA module that was compiled using NumPy 1.x cannot be run in\nNumPy 2.2.4 as it may crash. To support both 1.x and 2.x\nversions of NumPy, modules must be compiled with NumPy 2.0.\nSome module may need to rebuild instead e.g. with 'pybind11>=2.12'.\n\nIf you are a user of the module, the easiest solution will be to\ndowngrade to 'numpy<2' or try to upgrade the affected module.\nWe expect that some modules will need time to support NumPy 2.\n\n",
     "output_type": "error",
     "traceback": [
      "\u001b[1;31m---------------------------------------------------------------------------\u001b[0m",
      "\u001b[1;31mImportError\u001b[0m                               Traceback (most recent call last)",
      "File \u001b[1;32m~\\AppData\\Roaming\\Python\\Python312\\site-packages\\numpy\\core\\_multiarray_umath.py:44\u001b[0m, in \u001b[0;36m__getattr__\u001b[1;34m(attr_name)\u001b[0m\n\u001b[0;32m     39\u001b[0m     \u001b[38;5;66;03m# Also print the message (with traceback).  This is because old versions\u001b[39;00m\n\u001b[0;32m     40\u001b[0m     \u001b[38;5;66;03m# of NumPy unfortunately set up the import to replace (and hide) the\u001b[39;00m\n\u001b[0;32m     41\u001b[0m     \u001b[38;5;66;03m# error.  The traceback shouldn't be needed, but e.g. pytest plugins\u001b[39;00m\n\u001b[0;32m     42\u001b[0m     \u001b[38;5;66;03m# seem to swallow it and we should be failing anyway...\u001b[39;00m\n\u001b[0;32m     43\u001b[0m     sys\u001b[38;5;241m.\u001b[39mstderr\u001b[38;5;241m.\u001b[39mwrite(msg \u001b[38;5;241m+\u001b[39m tb_msg)\n\u001b[1;32m---> 44\u001b[0m     \u001b[38;5;28;01mraise\u001b[39;00m \u001b[38;5;167;01mImportError\u001b[39;00m(msg)\n\u001b[0;32m     46\u001b[0m ret \u001b[38;5;241m=\u001b[39m \u001b[38;5;28mgetattr\u001b[39m(_multiarray_umath, attr_name, \u001b[38;5;28;01mNone\u001b[39;00m)\n\u001b[0;32m     47\u001b[0m \u001b[38;5;28;01mif\u001b[39;00m ret \u001b[38;5;129;01mis\u001b[39;00m \u001b[38;5;28;01mNone\u001b[39;00m:\n",
      "\u001b[1;31mImportError\u001b[0m: \nA module that was compiled using NumPy 1.x cannot be run in\nNumPy 2.2.4 as it may crash. To support both 1.x and 2.x\nversions of NumPy, modules must be compiled with NumPy 2.0.\nSome module may need to rebuild instead e.g. with 'pybind11>=2.12'.\n\nIf you are a user of the module, the easiest solution will be to\ndowngrade to 'numpy<2' or try to upgrade the affected module.\nWe expect that some modules will need time to support NumPy 2.\n\n"
     ]
    },
    {
     "name": "stderr",
     "output_type": "stream",
     "text": [
      "\n",
      "A module that was compiled using NumPy 1.x cannot be run in\n",
      "NumPy 2.2.4 as it may crash. To support both 1.x and 2.x\n",
      "versions of NumPy, modules must be compiled with NumPy 2.0.\n",
      "Some module may need to rebuild instead e.g. with 'pybind11>=2.12'.\n",
      "\n",
      "If you are a user of the module, the easiest solution will be to\n",
      "downgrade to 'numpy<2' or try to upgrade the affected module.\n",
      "We expect that some modules will need time to support NumPy 2.\n",
      "\n",
      "Traceback (most recent call last):  File \"<frozen runpy>\", line 198, in _run_module_as_main\n",
      "  File \"<frozen runpy>\", line 88, in _run_code\n",
      "  File \"C:\\Users\\khiem\\AppData\\Roaming\\Python\\Python312\\site-packages\\ipykernel_launcher.py\", line 18, in <module>\n",
      "    app.launch_new_instance()\n",
      "  File \"C:\\Users\\khiem\\AppData\\Roaming\\Python\\Python312\\site-packages\\traitlets\\config\\application.py\", line 1075, in launch_instance\n",
      "    app.start()\n",
      "  File \"C:\\Users\\khiem\\AppData\\Roaming\\Python\\Python312\\site-packages\\ipykernel\\kernelapp.py\", line 739, in start\n",
      "    self.io_loop.start()\n",
      "  File \"C:\\Users\\khiem\\AppData\\Roaming\\Python\\Python312\\site-packages\\tornado\\platform\\asyncio.py\", line 205, in start\n",
      "    self.asyncio_loop.run_forever()\n",
      "  File \"c:\\Users\\khiem\\anaconda3\\Lib\\asyncio\\base_events.py\", line 641, in run_forever\n",
      "    self._run_once()\n",
      "  File \"c:\\Users\\khiem\\anaconda3\\Lib\\asyncio\\base_events.py\", line 1986, in _run_once\n",
      "    handle._run()\n",
      "  File \"c:\\Users\\khiem\\anaconda3\\Lib\\asyncio\\events.py\", line 88, in _run\n",
      "    self._context.run(self._callback, *self._args)\n",
      "  File \"C:\\Users\\khiem\\AppData\\Roaming\\Python\\Python312\\site-packages\\ipykernel\\kernelbase.py\", line 545, in dispatch_queue\n",
      "    await self.process_one()\n",
      "  File \"C:\\Users\\khiem\\AppData\\Roaming\\Python\\Python312\\site-packages\\ipykernel\\kernelbase.py\", line 534, in process_one\n",
      "    await dispatch(*args)\n",
      "  File \"C:\\Users\\khiem\\AppData\\Roaming\\Python\\Python312\\site-packages\\ipykernel\\kernelbase.py\", line 437, in dispatch_shell\n",
      "    await result\n",
      "  File \"C:\\Users\\khiem\\AppData\\Roaming\\Python\\Python312\\site-packages\\ipykernel\\ipkernel.py\", line 362, in execute_request\n",
      "    await super().execute_request(stream, ident, parent)\n",
      "  File \"C:\\Users\\khiem\\AppData\\Roaming\\Python\\Python312\\site-packages\\ipykernel\\kernelbase.py\", line 778, in execute_request\n",
      "    reply_content = await reply_content\n",
      "  File \"C:\\Users\\khiem\\AppData\\Roaming\\Python\\Python312\\site-packages\\ipykernel\\ipkernel.py\", line 449, in do_execute\n",
      "    res = shell.run_cell(\n",
      "  File \"C:\\Users\\khiem\\AppData\\Roaming\\Python\\Python312\\site-packages\\ipykernel\\zmqshell.py\", line 549, in run_cell\n",
      "    return super().run_cell(*args, **kwargs)\n",
      "  File \"C:\\Users\\khiem\\AppData\\Roaming\\Python\\Python312\\site-packages\\IPython\\core\\interactiveshell.py\", line 3077, in run_cell\n",
      "    result = self._run_cell(\n",
      "  File \"C:\\Users\\khiem\\AppData\\Roaming\\Python\\Python312\\site-packages\\IPython\\core\\interactiveshell.py\", line 3132, in _run_cell\n",
      "    result = runner(coro)\n",
      "  File \"C:\\Users\\khiem\\AppData\\Roaming\\Python\\Python312\\site-packages\\IPython\\core\\async_helpers.py\", line 128, in _pseudo_sync_runner\n",
      "    coro.send(None)\n",
      "  File \"C:\\Users\\khiem\\AppData\\Roaming\\Python\\Python312\\site-packages\\IPython\\core\\interactiveshell.py\", line 3336, in run_cell_async\n",
      "    has_raised = await self.run_ast_nodes(code_ast.body, cell_name,\n",
      "  File \"C:\\Users\\khiem\\AppData\\Roaming\\Python\\Python312\\site-packages\\IPython\\core\\interactiveshell.py\", line 3519, in run_ast_nodes\n",
      "    if await self.run_code(code, result, async_=asy):\n",
      "  File \"C:\\Users\\khiem\\AppData\\Roaming\\Python\\Python312\\site-packages\\IPython\\core\\interactiveshell.py\", line 3579, in run_code\n",
      "    exec(code_obj, self.user_global_ns, self.user_ns)\n",
      "  File \"C:\\Users\\khiem\\AppData\\Local\\Temp\\ipykernel_28884\\190572246.py\", line 1, in <module>\n",
      "    import pandas as pd\n",
      "  File \"C:\\Users\\khiem\\AppData\\Roaming\\Python\\Python312\\site-packages\\pandas\\__init__.py\", line 62, in <module>\n",
      "    from pandas.core.api import (\n",
      "  File \"C:\\Users\\khiem\\AppData\\Roaming\\Python\\Python312\\site-packages\\pandas\\core\\api.py\", line 9, in <module>\n",
      "    from pandas.core.dtypes.dtypes import (\n",
      "  File \"C:\\Users\\khiem\\AppData\\Roaming\\Python\\Python312\\site-packages\\pandas\\core\\dtypes\\dtypes.py\", line 24, in <module>\n",
      "    from pandas._libs import (\n",
      "  File \"c:\\Users\\khiem\\anaconda3\\Lib\\site-packages\\pyarrow\\__init__.py\", line 65, in <module>\n",
      "    import pyarrow.lib as _lib\n"
     ]
    },
    {
     "ename": "ImportError",
     "evalue": "\nA module that was compiled using NumPy 1.x cannot be run in\nNumPy 2.2.4 as it may crash. To support both 1.x and 2.x\nversions of NumPy, modules must be compiled with NumPy 2.0.\nSome module may need to rebuild instead e.g. with 'pybind11>=2.12'.\n\nIf you are a user of the module, the easiest solution will be to\ndowngrade to 'numpy<2' or try to upgrade the affected module.\nWe expect that some modules will need time to support NumPy 2.\n\n",
     "output_type": "error",
     "traceback": [
      "\u001b[1;31m---------------------------------------------------------------------------\u001b[0m",
      "\u001b[1;31mImportError\u001b[0m                               Traceback (most recent call last)",
      "File \u001b[1;32m~\\AppData\\Roaming\\Python\\Python312\\site-packages\\numpy\\core\\_multiarray_umath.py:44\u001b[0m, in \u001b[0;36m__getattr__\u001b[1;34m(attr_name)\u001b[0m\n\u001b[0;32m     39\u001b[0m     \u001b[38;5;66;03m# Also print the message (with traceback).  This is because old versions\u001b[39;00m\n\u001b[0;32m     40\u001b[0m     \u001b[38;5;66;03m# of NumPy unfortunately set up the import to replace (and hide) the\u001b[39;00m\n\u001b[0;32m     41\u001b[0m     \u001b[38;5;66;03m# error.  The traceback shouldn't be needed, but e.g. pytest plugins\u001b[39;00m\n\u001b[0;32m     42\u001b[0m     \u001b[38;5;66;03m# seem to swallow it and we should be failing anyway...\u001b[39;00m\n\u001b[0;32m     43\u001b[0m     sys\u001b[38;5;241m.\u001b[39mstderr\u001b[38;5;241m.\u001b[39mwrite(msg \u001b[38;5;241m+\u001b[39m tb_msg)\n\u001b[1;32m---> 44\u001b[0m     \u001b[38;5;28;01mraise\u001b[39;00m \u001b[38;5;167;01mImportError\u001b[39;00m(msg)\n\u001b[0;32m     46\u001b[0m ret \u001b[38;5;241m=\u001b[39m \u001b[38;5;28mgetattr\u001b[39m(_multiarray_umath, attr_name, \u001b[38;5;28;01mNone\u001b[39;00m)\n\u001b[0;32m     47\u001b[0m \u001b[38;5;28;01mif\u001b[39;00m ret \u001b[38;5;129;01mis\u001b[39;00m \u001b[38;5;28;01mNone\u001b[39;00m:\n",
      "\u001b[1;31mImportError\u001b[0m: \nA module that was compiled using NumPy 1.x cannot be run in\nNumPy 2.2.4 as it may crash. To support both 1.x and 2.x\nversions of NumPy, modules must be compiled with NumPy 2.0.\nSome module may need to rebuild instead e.g. with 'pybind11>=2.12'.\n\nIf you are a user of the module, the easiest solution will be to\ndowngrade to 'numpy<2' or try to upgrade the affected module.\nWe expect that some modules will need time to support NumPy 2.\n\n"
     ]
    },
    {
     "name": "stderr",
     "output_type": "stream",
     "text": [
      "\n",
      "A module that was compiled using NumPy 1.x cannot be run in\n",
      "NumPy 2.2.4 as it may crash. To support both 1.x and 2.x\n",
      "versions of NumPy, modules must be compiled with NumPy 2.0.\n",
      "Some module may need to rebuild instead e.g. with 'pybind11>=2.12'.\n",
      "\n",
      "If you are a user of the module, the easiest solution will be to\n",
      "downgrade to 'numpy<2' or try to upgrade the affected module.\n",
      "We expect that some modules will need time to support NumPy 2.\n",
      "\n",
      "Traceback (most recent call last):  File \"<frozen runpy>\", line 198, in _run_module_as_main\n",
      "  File \"<frozen runpy>\", line 88, in _run_code\n",
      "  File \"C:\\Users\\khiem\\AppData\\Roaming\\Python\\Python312\\site-packages\\ipykernel_launcher.py\", line 18, in <module>\n",
      "    app.launch_new_instance()\n",
      "  File \"C:\\Users\\khiem\\AppData\\Roaming\\Python\\Python312\\site-packages\\traitlets\\config\\application.py\", line 1075, in launch_instance\n",
      "    app.start()\n",
      "  File \"C:\\Users\\khiem\\AppData\\Roaming\\Python\\Python312\\site-packages\\ipykernel\\kernelapp.py\", line 739, in start\n",
      "    self.io_loop.start()\n",
      "  File \"C:\\Users\\khiem\\AppData\\Roaming\\Python\\Python312\\site-packages\\tornado\\platform\\asyncio.py\", line 205, in start\n",
      "    self.asyncio_loop.run_forever()\n",
      "  File \"c:\\Users\\khiem\\anaconda3\\Lib\\asyncio\\base_events.py\", line 641, in run_forever\n",
      "    self._run_once()\n",
      "  File \"c:\\Users\\khiem\\anaconda3\\Lib\\asyncio\\base_events.py\", line 1986, in _run_once\n",
      "    handle._run()\n",
      "  File \"c:\\Users\\khiem\\anaconda3\\Lib\\asyncio\\events.py\", line 88, in _run\n",
      "    self._context.run(self._callback, *self._args)\n",
      "  File \"C:\\Users\\khiem\\AppData\\Roaming\\Python\\Python312\\site-packages\\ipykernel\\kernelbase.py\", line 545, in dispatch_queue\n",
      "    await self.process_one()\n",
      "  File \"C:\\Users\\khiem\\AppData\\Roaming\\Python\\Python312\\site-packages\\ipykernel\\kernelbase.py\", line 534, in process_one\n",
      "    await dispatch(*args)\n",
      "  File \"C:\\Users\\khiem\\AppData\\Roaming\\Python\\Python312\\site-packages\\ipykernel\\kernelbase.py\", line 437, in dispatch_shell\n",
      "    await result\n",
      "  File \"C:\\Users\\khiem\\AppData\\Roaming\\Python\\Python312\\site-packages\\ipykernel\\ipkernel.py\", line 362, in execute_request\n",
      "    await super().execute_request(stream, ident, parent)\n",
      "  File \"C:\\Users\\khiem\\AppData\\Roaming\\Python\\Python312\\site-packages\\ipykernel\\kernelbase.py\", line 778, in execute_request\n",
      "    reply_content = await reply_content\n",
      "  File \"C:\\Users\\khiem\\AppData\\Roaming\\Python\\Python312\\site-packages\\ipykernel\\ipkernel.py\", line 449, in do_execute\n",
      "    res = shell.run_cell(\n",
      "  File \"C:\\Users\\khiem\\AppData\\Roaming\\Python\\Python312\\site-packages\\ipykernel\\zmqshell.py\", line 549, in run_cell\n",
      "    return super().run_cell(*args, **kwargs)\n",
      "  File \"C:\\Users\\khiem\\AppData\\Roaming\\Python\\Python312\\site-packages\\IPython\\core\\interactiveshell.py\", line 3077, in run_cell\n",
      "    result = self._run_cell(\n",
      "  File \"C:\\Users\\khiem\\AppData\\Roaming\\Python\\Python312\\site-packages\\IPython\\core\\interactiveshell.py\", line 3132, in _run_cell\n",
      "    result = runner(coro)\n",
      "  File \"C:\\Users\\khiem\\AppData\\Roaming\\Python\\Python312\\site-packages\\IPython\\core\\async_helpers.py\", line 128, in _pseudo_sync_runner\n",
      "    coro.send(None)\n",
      "  File \"C:\\Users\\khiem\\AppData\\Roaming\\Python\\Python312\\site-packages\\IPython\\core\\interactiveshell.py\", line 3336, in run_cell_async\n",
      "    has_raised = await self.run_ast_nodes(code_ast.body, cell_name,\n",
      "  File \"C:\\Users\\khiem\\AppData\\Roaming\\Python\\Python312\\site-packages\\IPython\\core\\interactiveshell.py\", line 3519, in run_ast_nodes\n",
      "    if await self.run_code(code, result, async_=asy):\n",
      "  File \"C:\\Users\\khiem\\AppData\\Roaming\\Python\\Python312\\site-packages\\IPython\\core\\interactiveshell.py\", line 3579, in run_code\n",
      "    exec(code_obj, self.user_global_ns, self.user_ns)\n",
      "  File \"C:\\Users\\khiem\\AppData\\Local\\Temp\\ipykernel_28884\\190572246.py\", line 1, in <module>\n",
      "    import pandas as pd\n",
      "  File \"C:\\Users\\khiem\\AppData\\Roaming\\Python\\Python312\\site-packages\\pandas\\__init__.py\", line 62, in <module>\n",
      "    from pandas.core.api import (\n",
      "  File \"C:\\Users\\khiem\\AppData\\Roaming\\Python\\Python312\\site-packages\\pandas\\core\\api.py\", line 28, in <module>\n",
      "    from pandas.core.arrays import Categorical\n",
      "  File \"C:\\Users\\khiem\\AppData\\Roaming\\Python\\Python312\\site-packages\\pandas\\core\\arrays\\__init__.py\", line 1, in <module>\n",
      "    from pandas.core.arrays.arrow import ArrowExtensionArray\n",
      "  File \"C:\\Users\\khiem\\AppData\\Roaming\\Python\\Python312\\site-packages\\pandas\\core\\arrays\\arrow\\__init__.py\", line 5, in <module>\n",
      "    from pandas.core.arrays.arrow.array import ArrowExtensionArray\n",
      "  File \"C:\\Users\\khiem\\AppData\\Roaming\\Python\\Python312\\site-packages\\pandas\\core\\arrays\\arrow\\array.py\", line 50, in <module>\n",
      "    from pandas.core import (\n",
      "  File \"C:\\Users\\khiem\\AppData\\Roaming\\Python\\Python312\\site-packages\\pandas\\core\\ops\\__init__.py\", line 8, in <module>\n",
      "    from pandas.core.ops.array_ops import (\n",
      "  File \"C:\\Users\\khiem\\AppData\\Roaming\\Python\\Python312\\site-packages\\pandas\\core\\ops\\array_ops.py\", line 56, in <module>\n",
      "    from pandas.core.computation import expressions\n",
      "  File \"C:\\Users\\khiem\\AppData\\Roaming\\Python\\Python312\\site-packages\\pandas\\core\\computation\\expressions.py\", line 21, in <module>\n",
      "    from pandas.core.computation.check import NUMEXPR_INSTALLED\n",
      "  File \"C:\\Users\\khiem\\AppData\\Roaming\\Python\\Python312\\site-packages\\pandas\\core\\computation\\check.py\", line 5, in <module>\n",
      "    ne = import_optional_dependency(\"numexpr\", errors=\"warn\")\n",
      "  File \"C:\\Users\\khiem\\AppData\\Roaming\\Python\\Python312\\site-packages\\pandas\\compat\\_optional.py\", line 135, in import_optional_dependency\n",
      "    module = importlib.import_module(name)\n",
      "  File \"c:\\Users\\khiem\\anaconda3\\Lib\\importlib\\__init__.py\", line 90, in import_module\n",
      "    return _bootstrap._gcd_import(name[level:], package, level)\n",
      "  File \"c:\\Users\\khiem\\anaconda3\\Lib\\site-packages\\numexpr\\__init__.py\", line 24, in <module>\n",
      "    from numexpr.interpreter import MAX_THREADS, use_vml, __BLOCK_SIZE1__\n"
     ]
    },
    {
     "ename": "AttributeError",
     "evalue": "_ARRAY_API not found",
     "output_type": "error",
     "traceback": [
      "\u001b[1;31m---------------------------------------------------------------------------\u001b[0m",
      "\u001b[1;31mAttributeError\u001b[0m                            Traceback (most recent call last)",
      "\u001b[1;31mAttributeError\u001b[0m: _ARRAY_API not found"
     ]
    },
    {
     "name": "stderr",
     "output_type": "stream",
     "text": [
      "\n",
      "A module that was compiled using NumPy 1.x cannot be run in\n",
      "NumPy 2.2.4 as it may crash. To support both 1.x and 2.x\n",
      "versions of NumPy, modules must be compiled with NumPy 2.0.\n",
      "Some module may need to rebuild instead e.g. with 'pybind11>=2.12'.\n",
      "\n",
      "If you are a user of the module, the easiest solution will be to\n",
      "downgrade to 'numpy<2' or try to upgrade the affected module.\n",
      "We expect that some modules will need time to support NumPy 2.\n",
      "\n",
      "Traceback (most recent call last):  File \"<frozen runpy>\", line 198, in _run_module_as_main\n",
      "  File \"<frozen runpy>\", line 88, in _run_code\n",
      "  File \"C:\\Users\\khiem\\AppData\\Roaming\\Python\\Python312\\site-packages\\ipykernel_launcher.py\", line 18, in <module>\n",
      "    app.launch_new_instance()\n",
      "  File \"C:\\Users\\khiem\\AppData\\Roaming\\Python\\Python312\\site-packages\\traitlets\\config\\application.py\", line 1075, in launch_instance\n",
      "    app.start()\n",
      "  File \"C:\\Users\\khiem\\AppData\\Roaming\\Python\\Python312\\site-packages\\ipykernel\\kernelapp.py\", line 739, in start\n",
      "    self.io_loop.start()\n",
      "  File \"C:\\Users\\khiem\\AppData\\Roaming\\Python\\Python312\\site-packages\\tornado\\platform\\asyncio.py\", line 205, in start\n",
      "    self.asyncio_loop.run_forever()\n",
      "  File \"c:\\Users\\khiem\\anaconda3\\Lib\\asyncio\\base_events.py\", line 641, in run_forever\n",
      "    self._run_once()\n",
      "  File \"c:\\Users\\khiem\\anaconda3\\Lib\\asyncio\\base_events.py\", line 1986, in _run_once\n",
      "    handle._run()\n",
      "  File \"c:\\Users\\khiem\\anaconda3\\Lib\\asyncio\\events.py\", line 88, in _run\n",
      "    self._context.run(self._callback, *self._args)\n",
      "  File \"C:\\Users\\khiem\\AppData\\Roaming\\Python\\Python312\\site-packages\\ipykernel\\kernelbase.py\", line 545, in dispatch_queue\n",
      "    await self.process_one()\n",
      "  File \"C:\\Users\\khiem\\AppData\\Roaming\\Python\\Python312\\site-packages\\ipykernel\\kernelbase.py\", line 534, in process_one\n",
      "    await dispatch(*args)\n",
      "  File \"C:\\Users\\khiem\\AppData\\Roaming\\Python\\Python312\\site-packages\\ipykernel\\kernelbase.py\", line 437, in dispatch_shell\n",
      "    await result\n",
      "  File \"C:\\Users\\khiem\\AppData\\Roaming\\Python\\Python312\\site-packages\\ipykernel\\ipkernel.py\", line 362, in execute_request\n",
      "    await super().execute_request(stream, ident, parent)\n",
      "  File \"C:\\Users\\khiem\\AppData\\Roaming\\Python\\Python312\\site-packages\\ipykernel\\kernelbase.py\", line 778, in execute_request\n",
      "    reply_content = await reply_content\n",
      "  File \"C:\\Users\\khiem\\AppData\\Roaming\\Python\\Python312\\site-packages\\ipykernel\\ipkernel.py\", line 449, in do_execute\n",
      "    res = shell.run_cell(\n",
      "  File \"C:\\Users\\khiem\\AppData\\Roaming\\Python\\Python312\\site-packages\\ipykernel\\zmqshell.py\", line 549, in run_cell\n",
      "    return super().run_cell(*args, **kwargs)\n",
      "  File \"C:\\Users\\khiem\\AppData\\Roaming\\Python\\Python312\\site-packages\\IPython\\core\\interactiveshell.py\", line 3077, in run_cell\n",
      "    result = self._run_cell(\n",
      "  File \"C:\\Users\\khiem\\AppData\\Roaming\\Python\\Python312\\site-packages\\IPython\\core\\interactiveshell.py\", line 3132, in _run_cell\n",
      "    result = runner(coro)\n",
      "  File \"C:\\Users\\khiem\\AppData\\Roaming\\Python\\Python312\\site-packages\\IPython\\core\\async_helpers.py\", line 128, in _pseudo_sync_runner\n",
      "    coro.send(None)\n",
      "  File \"C:\\Users\\khiem\\AppData\\Roaming\\Python\\Python312\\site-packages\\IPython\\core\\interactiveshell.py\", line 3336, in run_cell_async\n",
      "    has_raised = await self.run_ast_nodes(code_ast.body, cell_name,\n",
      "  File \"C:\\Users\\khiem\\AppData\\Roaming\\Python\\Python312\\site-packages\\IPython\\core\\interactiveshell.py\", line 3519, in run_ast_nodes\n",
      "    if await self.run_code(code, result, async_=asy):\n",
      "  File \"C:\\Users\\khiem\\AppData\\Roaming\\Python\\Python312\\site-packages\\IPython\\core\\interactiveshell.py\", line 3579, in run_code\n",
      "    exec(code_obj, self.user_global_ns, self.user_ns)\n",
      "  File \"C:\\Users\\khiem\\AppData\\Local\\Temp\\ipykernel_28884\\190572246.py\", line 1, in <module>\n",
      "    import pandas as pd\n",
      "  File \"C:\\Users\\khiem\\AppData\\Roaming\\Python\\Python312\\site-packages\\pandas\\__init__.py\", line 62, in <module>\n",
      "    from pandas.core.api import (\n",
      "  File \"C:\\Users\\khiem\\AppData\\Roaming\\Python\\Python312\\site-packages\\pandas\\core\\api.py\", line 28, in <module>\n",
      "    from pandas.core.arrays import Categorical\n",
      "  File \"C:\\Users\\khiem\\AppData\\Roaming\\Python\\Python312\\site-packages\\pandas\\core\\arrays\\__init__.py\", line 1, in <module>\n",
      "    from pandas.core.arrays.arrow import ArrowExtensionArray\n",
      "  File \"C:\\Users\\khiem\\AppData\\Roaming\\Python\\Python312\\site-packages\\pandas\\core\\arrays\\arrow\\__init__.py\", line 5, in <module>\n",
      "    from pandas.core.arrays.arrow.array import ArrowExtensionArray\n",
      "  File \"C:\\Users\\khiem\\AppData\\Roaming\\Python\\Python312\\site-packages\\pandas\\core\\arrays\\arrow\\array.py\", line 64, in <module>\n",
      "    from pandas.core.arrays.masked import BaseMaskedArray\n",
      "  File \"C:\\Users\\khiem\\AppData\\Roaming\\Python\\Python312\\site-packages\\pandas\\core\\arrays\\masked.py\", line 60, in <module>\n",
      "    from pandas.core import (\n",
      "  File \"C:\\Users\\khiem\\AppData\\Roaming\\Python\\Python312\\site-packages\\pandas\\core\\nanops.py\", line 52, in <module>\n",
      "    bn = import_optional_dependency(\"bottleneck\", errors=\"warn\")\n",
      "  File \"C:\\Users\\khiem\\AppData\\Roaming\\Python\\Python312\\site-packages\\pandas\\compat\\_optional.py\", line 135, in import_optional_dependency\n",
      "    module = importlib.import_module(name)\n",
      "  File \"c:\\Users\\khiem\\anaconda3\\Lib\\importlib\\__init__.py\", line 90, in import_module\n",
      "    return _bootstrap._gcd_import(name[level:], package, level)\n",
      "  File \"c:\\Users\\khiem\\anaconda3\\Lib\\site-packages\\bottleneck\\__init__.py\", line 7, in <module>\n",
      "    from .move import (move_argmax, move_argmin, move_max, move_mean, move_median,\n"
     ]
    },
    {
     "ename": "ImportError",
     "evalue": "\nA module that was compiled using NumPy 1.x cannot be run in\nNumPy 2.2.4 as it may crash. To support both 1.x and 2.x\nversions of NumPy, modules must be compiled with NumPy 2.0.\nSome module may need to rebuild instead e.g. with 'pybind11>=2.12'.\n\nIf you are a user of the module, the easiest solution will be to\ndowngrade to 'numpy<2' or try to upgrade the affected module.\nWe expect that some modules will need time to support NumPy 2.\n\n",
     "output_type": "error",
     "traceback": [
      "\u001b[1;31m---------------------------------------------------------------------------\u001b[0m",
      "\u001b[1;31mImportError\u001b[0m                               Traceback (most recent call last)",
      "File \u001b[1;32m~\\AppData\\Roaming\\Python\\Python312\\site-packages\\numpy\\core\\_multiarray_umath.py:44\u001b[0m, in \u001b[0;36m__getattr__\u001b[1;34m(attr_name)\u001b[0m\n\u001b[0;32m     39\u001b[0m     \u001b[38;5;66;03m# Also print the message (with traceback).  This is because old versions\u001b[39;00m\n\u001b[0;32m     40\u001b[0m     \u001b[38;5;66;03m# of NumPy unfortunately set up the import to replace (and hide) the\u001b[39;00m\n\u001b[0;32m     41\u001b[0m     \u001b[38;5;66;03m# error.  The traceback shouldn't be needed, but e.g. pytest plugins\u001b[39;00m\n\u001b[0;32m     42\u001b[0m     \u001b[38;5;66;03m# seem to swallow it and we should be failing anyway...\u001b[39;00m\n\u001b[0;32m     43\u001b[0m     sys\u001b[38;5;241m.\u001b[39mstderr\u001b[38;5;241m.\u001b[39mwrite(msg \u001b[38;5;241m+\u001b[39m tb_msg)\n\u001b[1;32m---> 44\u001b[0m     \u001b[38;5;28;01mraise\u001b[39;00m \u001b[38;5;167;01mImportError\u001b[39;00m(msg)\n\u001b[0;32m     46\u001b[0m ret \u001b[38;5;241m=\u001b[39m \u001b[38;5;28mgetattr\u001b[39m(_multiarray_umath, attr_name, \u001b[38;5;28;01mNone\u001b[39;00m)\n\u001b[0;32m     47\u001b[0m \u001b[38;5;28;01mif\u001b[39;00m ret \u001b[38;5;129;01mis\u001b[39;00m \u001b[38;5;28;01mNone\u001b[39;00m:\n",
      "\u001b[1;31mImportError\u001b[0m: \nA module that was compiled using NumPy 1.x cannot be run in\nNumPy 2.2.4 as it may crash. To support both 1.x and 2.x\nversions of NumPy, modules must be compiled with NumPy 2.0.\nSome module may need to rebuild instead e.g. with 'pybind11>=2.12'.\n\nIf you are a user of the module, the easiest solution will be to\ndowngrade to 'numpy<2' or try to upgrade the affected module.\nWe expect that some modules will need time to support NumPy 2.\n\n"
     ]
    }
   ],
   "source": [
    "import pandas as pd\n",
    "import numpy as np\n",
    "import matplotlib.pyplot as plt\n",
    "import seaborn as sns\n",
    "import holidays\n",
    "\n",
    "from IPython.core.display  import HTML\n",
    "from IPython.display       import Image\n",
    "from datetime              import date\n",
    "from tabulate              import tabulate\n",
    "from scipy.stats           import chi2_contingency\n",
    "\n",
    "from boruta                import BorutaPy\n",
    "from sklearn.ensemble      import RandomForestRegressor\n",
    "\n",
    "from sklearn.metrics       import mean_absolute_error, mean_squared_error\n",
    "from sklearn.linear_model  import LinearRegression, Lasso\n",
    "from sklearn.ensemble      import RandomForestRegressor\n",
    "import xgboost as xgb\n",
    "\n",
    "import random\n",
    "import warnings\n",
    "warnings.filterwarnings('ignore')"
   ]
  },
  {
   "cell_type": "markdown",
   "id": "db54dd49",
   "metadata": {},
   "source": [
    "# 1.1 Hàm trợ giúp"
   ]
  },
  {
   "cell_type": "code",
   "execution_count": 4,
   "id": "82565eb0",
   "metadata": {},
   "outputs": [],
   "source": [
    "# Tính trung bình phần trăm sai số (MPE)\n",
    "def mean_percentage_error( y, yhat ):\n",
    "    return np.mean( ( y - yhat ) / y )\n",
    "\n",
    "def cross_validation( X_training, kfold, model_name, model, verbose=False ):\n",
    "    \n",
    "    mae_list  = []\n",
    "    mape_list = []\n",
    "    rmse_list = []\n",
    "    \n",
    "    for k in reversed( range( 1, kfold+1 ) ):\n",
    "        if verbose:\n",
    "            print( '\\nKFold Number: {}'.format( k ) )\n",
    "        # ngày bắt đầu và kết thúc cho validation \n",
    "        validation_start_date_1  = X_training[X_training['electric_company']==1]['datetime'].max() - datetime.timedelta( days=k*12*30 )\n",
    "        validation_start_date_2  = X_training[X_training['electric_company']==2]['datetime'].max() - datetime.timedelta( days=k*12*30 )\n",
    "        validation_start_date_3  = X_training[X_training['electric_company']==3]['datetime'].max() - datetime.timedelta( days=k*12*30 )\n",
    "        validation_start_date_4  = X_training[X_training['electric_company']==4]['datetime'].max() - datetime.timedelta( days=k*12*30 )\n",
    "        validation_start_date_5  = X_training[X_training['electric_company']==5]['datetime'].max() - datetime.timedelta( days=k*12*30 )\n",
    "        validation_start_date_6  = X_training[X_training['electric_company']==6]['datetime'].max() - datetime.timedelta( days=k*12*30 )\n",
    "        validation_start_date_7  = X_training[X_training['electric_company']==7]['datetime'].max() - datetime.timedelta( days=k*12*30 )\n",
    "        validation_start_date_8  = X_training[X_training['electric_company']==8]['datetime'].max() - datetime.timedelta( days=k*12*30 )\n",
    "        validation_start_date_9  = X_training[X_training['electric_company']==9]['datetime'].max() - datetime.timedelta( days=k*12*30 )\n",
    "        validation_start_date_10 = X_training[X_training['electric_company']==10]['datetime'].max() - datetime.timedelta( days=k*12*30 )\n",
    "        validation_start_date_11 = X_training[X_training['electric_company']==11]['datetime'].max() - datetime.timedelta( days=k*12*30 )\n",
    "        validation_start_date_12 = X_training[X_training['electric_company']==12]['datetime'].max() - datetime.timedelta( days=k*12*30 )\n",
    "\n",
    "        validation_end_date_1    = X_training[X_training['electric_company']==1]['datetime'].max() - datetime.timedelta( days=(k-1)*12*30 )\n",
    "        validation_end_date_2    = X_training[X_training['electric_company']==2]['datetime'].max() - datetime.timedelta( days=(k-1)*12*30 )\n",
    "        validation_end_date_3    = X_training[X_training['electric_company']==3]['datetime'].max() - datetime.timedelta( days=(k-1)*12*30 )\n",
    "        validation_end_date_4    = X_training[X_training['electric_company']==4]['datetime'].max() - datetime.timedelta( days=(k-1)*12*30 )\n",
    "        validation_end_date_5    = X_training[X_training['electric_company']==5]['datetime'].max() - datetime.timedelta( days=(k-1)*12*30 )\n",
    "        validation_end_date_6    = X_training[X_training['electric_company']==6]['datetime'].max() - datetime.timedelta( days=(k-1)*12*30 )\n",
    "        validation_end_date_7    = X_training[X_training['electric_company']==7]['datetime'].max() - datetime.timedelta( days=(k-1)*12*30 )\n",
    "        validation_end_date_8    = X_training[X_training['electric_company']==8]['datetime'].max() - datetime.timedelta( days=(k-1)*12*30 )\n",
    "        validation_end_date_9    = X_training[X_training['electric_company']==9]['datetime'].max() - datetime.timedelta( days=(k-1)*12*30 )\n",
    "        validation_end_date_10   = X_training[X_training['electric_company']==10]['datetime'].max() - datetime.timedelta( days=(k-1)*12*30 )\n",
    "        validation_end_date_11   = X_training[X_training['electric_company']==11]['datetime'].max() - datetime.timedelta( days=(k-1)*12*30 )\n",
    "        validation_end_date_12   = X_training[X_training['electric_company']==12]['datetime'].max() - datetime.timedelta( days=(k-1)*12*30 )\n",
    "            \n",
    "        # lọc dữ liệu\n",
    "        training = X_training[ ( (X_training['electric_company']==1) & (X_training['datetime'] < validation_start_date_1) )\n",
    "                 | ( (X_training['electric_company']==2) & (X_training['datetime'] < validation_start_date_2) )\n",
    "                 | ( (X_training['electric_company']==3) & (X_training['datetime'] < validation_start_date_3) )\n",
    "                 | ( (X_training['electric_company']==4) & (X_training['datetime'] < validation_start_date_4) )\n",
    "                 | ( (X_training['electric_company']==5) & (X_training['datetime'] < validation_start_date_5) )\n",
    "                 | ( (X_training['electric_company']==6) & (X_training['datetime'] < validation_start_date_6) )\n",
    "                 | ( (X_training['electric_company']==7) & (X_training['datetime'] < validation_start_date_7) )\n",
    "                 | ( (X_training['electric_company']==8) & (X_training['datetime'] < validation_start_date_8) )\n",
    "                 | ( (X_training['electric_company']==9) & (X_training['datetime'] < validation_start_date_9) )\n",
    "                 | ( (X_training['electric_company']==10)  & (X_training['datetime'] < validation_start_date_10) ) \n",
    "                 | ( (X_training['electric_company']==11) & (X_training['datetime'] < validation_start_date_11) )\n",
    "                 | ( (X_training['electric_company']==12) & (X_training['datetime'] < validation_start_date_12) ) ]\n",
    "        \n",
    "        validation = X_training[ ( (X_training['electric_company']==1) & (X_training['datetime'] >= validation_start_date_1) & (X_training['datetime'] <= validation_end_date_1) ) \n",
    "                 | ( (X_training['electric_company']==2) & (X_training['datetime'] >= validation_start_date_2) & (X_training['datetime'] <= validation_end_date_2) )\n",
    "                 | ( (X_training['electric_company']==3) & (X_training['datetime'] >= validation_start_date_3) & (X_training['datetime'] <= validation_end_date_3) )\n",
    "                 | ( (X_training['electric_company']==4) & (X_training['datetime'] >= validation_start_date_4) & (X_training['datetime'] <= validation_end_date_4) )\n",
    "                 | ( (X_training['electric_company']==5) & (X_training['datetime'] >= validation_start_date_5) & (X_training['datetime'] <= validation_end_date_5) )\n",
    "                 | ( (X_training['electric_company']==6) & (X_training['datetime'] >= validation_start_date_6) & (X_training['datetime'] <= validation_end_date_6) )\n",
    "                 | ( (X_training['electric_company']==7) & (X_training['datetime'] >= validation_start_date_7) & (X_training['datetime'] <= validation_end_date_7) )\n",
    "                 | ( (X_training['electric_company']==8) & (X_training['datetime'] >= validation_start_date_8) & (X_training['datetime'] <= validation_end_date_8) )\n",
    "                 | ( (X_training['electric_company']==9) & (X_training['datetime'] >= validation_start_date_9) & (X_training['datetime'] <= validation_end_date_9) )\n",
    "                 | ( (X_training['electric_company']==10) & (X_training['datetime'] >= validation_start_date_10) & (X_training['datetime'] <= validation_end_date_10) ) \n",
    "                 | ( (X_training['electric_company']==11) & (X_training['datetime'] >= validation_start_date_11) & (X_training['datetime'] <= validation_end_date_11) )\n",
    "                 | ( (X_training['electric_company']==12) & (X_training['datetime'] >= validation_start_date_12) & (X_training['datetime'] <= validation_end_date_12) ) ]\n",
    "        \n",
    "        # tập dữ liệu training và validation\n",
    "        # training\n",
    "        xtraining = training.drop( ['datetime', 'mw_energy_consumption' ], axis=1 )\n",
    "        ytraining = training['mw_energy_consumption']\n",
    "\n",
    "        # validation\n",
    "        xvalidation = validation.drop( ['datetime', 'mw_energy_consumption'], axis=1 )\n",
    "        yvalidation = validation['mw_energy_consumption']\n",
    "\n",
    "        # model\n",
    "        m = model.fit( xtraining, ytraining )\n",
    "\n",
    "        # dự đoán\n",
    "        yhat = m.predict( xvalidation )\n",
    "\n",
    "        # hiệu suất\n",
    "        m_result = ml_error( model_name, np.expm1( yvalidation ), np.expm1( yhat ) )\n",
    "\n",
    "        # lưu hiệu suất của mỗi lần lặp kfold\n",
    "        mae_list.append( m_result['MAE'] )\n",
    "        mape_list.append( m_result['MAPE'] )\n",
    "        rmse_list.append( m_result['RMSE'] )\n",
    "\n",
    "    return pd.DataFrame( { 'Model Name': model_name,\n",
    "                            'MAE CV': np.round( np.mean( mae_list ), 2 ).astype( str ) + ' +/- ' + np.round( np.std( mae_list ), 2 ).astype( str ),\n",
    "                            'MAPE CV': np.round( np.mean( mape_list ), 2 ).astype( str ) + ' +/- ' + np.round( np.std( mape_list ), 2 ).astype( str ),\n",
    "                            'RMSE CV': np.round( np.mean( rmse_list ), 2 ).astype( str ) + ' +/- ' + np.round( np.std( rmse_list ), 2 ).astype( str ) }, index=[0] )\n",
    "\n",
    "# Tính trung bình phần trăm sai số tuyệt đối\n",
    "def mean_absolute_percentage_error( y, yhat ):\n",
    "    return np.mean( np.abs( (y - yhat ) / y ) )\n",
    "\n",
    "#Tính các chỉ số đánh giá mô hình\n",
    "def ml_error( model_name, y, yhat ):\n",
    "    mae = mean_absolute_error( y, yhat ) #sai số tuyệt đối trung bình\n",
    "    mape = mean_absolute_percentage_error( y, yhat ) #Phần trăm sai số tuyệt đối trung bình\n",
    "    rmse = np.sqrt( mean_squared_error( y, yhat ) ) #Căn bậc 2 của sai số bình phương trung bình\n",
    "    \n",
    "    return pd.DataFrame( { 'Model Name': model_name,\n",
    "                           'MAE': mae,\n",
    "                           'MAPE': mape,\n",
    "                           'RMSE': rmse }, index=[0] )\n",
    "\n",
    "#Tính Cramer - 1 thước đo dộ liên quan giữa 2 biến phân loại \n",
    "def cramer_v( x, y ):\n",
    "    cm = pd.crosstab( x, y ).values\n",
    "    n = cm.sum()\n",
    "    r, k = cm.shape\n",
    "    \n",
    "    chi2 = chi2_contingency( cm )[0]\n",
    "    chi2corr = max( 0, chi2 - (k-1)*(r-1)/(n-1) )\n",
    "    \n",
    "    kcorr = k - (k-1)**2/(n-1)\n",
    "    rcorr = r - (r-1)**2/(n-1)\n",
    "\n",
    "    return np.sqrt( (chi2corr/n) / ( min( kcorr-1, rcorr-1 ) ) )\n",
    "\n",
    "# Thiết lập môi trường Jupyter Notebook cho trực quan hóa và hiển thị dữ liệu đẹp hơn.\n",
    "def jupyter_settings():\n",
    "    %matplotlib inline\n",
    "    %pylab inline\n",
    "    \n",
    "    plt.style.use( 'bmh' )\n",
    "    plt.rcParams['figure.figsize'] = [25, 12]\n",
    "    plt.rcParams['font.size'] = 24\n",
    "    \n",
    "    display( HTML( '<style>.container { width:100% !important; }</style>') )\n",
    "    pd.options.display.max_columns = None\n",
    "    pd.options.display.max_rows = None\n",
    "    pd.set_option( 'display.expand_frame_repr', False )\n",
    "    \n",
    "    sns.set()"
   ]
  },
  {
   "cell_type": "code",
   "execution_count": 5,
   "id": "7648377e",
   "metadata": {},
   "outputs": [
    {
     "name": "stdout",
     "output_type": "stream",
     "text": [
      "%pylab is deprecated, use %matplotlib inline and import the required libraries.\n",
      "Populating the interactive namespace from numpy and matplotlib\n"
     ]
    },
    {
     "data": {
      "text/html": [
       "<style>.container { width:100% !important; }</style>"
      ],
      "text/plain": [
       "<IPython.core.display.HTML object>"
      ]
     },
     "metadata": {},
     "output_type": "display_data"
    }
   ],
   "source": [
    "jupyter_settings()"
   ]
  },
  {
   "cell_type": "markdown",
   "id": "8a41dad7",
   "metadata": {},
   "source": [
    "# 1.2 Đọc dữ liệu"
   ]
  },
  {
   "cell_type": "code",
   "execution_count": 6,
   "id": "d75b70a3",
   "metadata": {},
   "outputs": [],
   "source": [
    "# Đọc dữ liệu train\n",
    "aep = pd.read_csv('data/train/AEP_hourly_train.csv', low_memory=False)\n",
    "comed = pd.read_csv('data/train/COMED_hourly_train.csv', low_memory=False)\n",
    "dayton = pd.read_csv('data/train/DAYTON_hourly_train.csv', low_memory=False)\n",
    "deok = pd.read_csv('data/train/DEOK_hourly_train.csv', low_memory=False)\n",
    "dom = pd.read_csv('data/train/DOM_hourly_train.csv', low_memory=False)\n",
    "duq = pd.read_csv('data/train/DUQ_hourly_train.csv', low_memory=False)\n",
    "ekpc = pd.read_csv('data/train/EKPC_hourly_train.csv', low_memory=False)\n",
    "fe = pd.read_csv('data/train/FE_hourly_train.csv', low_memory=False)\n",
    "ni = pd.read_csv('data/train/NI_hourly_train.csv', low_memory=False)\n",
    "pjm = pd.read_csv('data/train/PJM_Load_hourly_train.csv', low_memory=False)\n",
    "pjme = pd.read_csv('data/train/PJME_hourly_train.csv', low_memory=False)\n",
    "pjmw = pd.read_csv('data/train/PJMW_hourly_train.csv', low_memory=False)"
   ]
  },
  {
   "cell_type": "code",
   "execution_count": 7,
   "id": "84769e55",
   "metadata": {},
   "outputs": [],
   "source": [
    "# Đọc dữ liệu test\n",
    "aep_test = pd.read_csv('data/test/AEP_hourly_test.csv', low_memory=False)\n",
    "comed_test = pd.read_csv('data/test/COMED_hourly_test.csv', low_memory=False)\n",
    "dayton_test = pd.read_csv('data/test/DAYTON_hourly_test.csv', low_memory=False)\n",
    "deok_test = pd.read_csv('data/test/DEOK_hourly_test.csv', low_memory=False)\n",
    "dom_test = pd.read_csv('data/test/DOM_hourly_test.csv', low_memory=False)\n",
    "duq_test = pd.read_csv('data/test/DUQ_hourly_test.csv', low_memory=False)\n",
    "ekpc_test = pd.read_csv('data/test/EKPC_hourly_test.csv', low_memory=False)\n",
    "fe_test = pd.read_csv('data/test/FE_hourly_test.csv', low_memory=False)\n",
    "ni_test = pd.read_csv('data/test/NI_hourly_test.csv', low_memory=False)\n",
    "pjm_test = pd.read_csv('data/test/PJM_Load_hourly_test.csv', low_memory=False)\n",
    "pjme_test = pd.read_csv('data/test/PJME_hourly_test.csv', low_memory=False)\n",
    "pjmw_test = pd.read_csv('data/test/PJMW_hourly_test.csv', low_memory=False)"
   ]
  },
  {
   "cell_type": "code",
   "execution_count": 8,
   "id": "c33bfec0",
   "metadata": {},
   "outputs": [],
   "source": [
    "# Thực hiện gộp tập dữ liệu train thành 1 và thêm 1 cột \"electric_company\" để xác định nơi phát điện.\n",
    "\n",
    "aep['electric_company'] = 'AEP'\n",
    "comed['electric_company'] = 'COMED'\n",
    "dayton['electric_company'] = 'DAYTON'\n",
    "deok['electric_company'] = 'DEOK'\n",
    "dom['electric_company'] = 'DOM'\n",
    "duq['electric_company'] = 'DUQ'\n",
    "ekpc['electric_company'] = 'EKPC'\n",
    "fe['electric_company'] = 'FE'\n",
    "ni['electric_company'] = 'NI'\n",
    "pjm['electric_company'] = 'PJM'\n",
    "pjme['electric_company'] = 'PJME'\n",
    "pjmw['electric_company'] = 'PJMW'"
   ]
  },
  {
   "cell_type": "code",
   "execution_count": 9,
   "id": "e0dd1db0",
   "metadata": {},
   "outputs": [],
   "source": [
    "# Đổi tên cột ở tập dữ liệu train\n",
    "\n",
    "aep = aep.rename( columns={'AEP_MW': 'mw_energy_consumption'} )\n",
    "comed = comed.rename( columns={'COMED_MW': 'mw_energy_consumption'} )\n",
    "dayton = dayton.rename( columns={'DAYTON_MW': 'mw_energy_consumption'} )\n",
    "deok = deok.rename( columns={'DEOK_MW': 'mw_energy_consumption'} )\n",
    "dom = dom.rename( columns={'DOM_MW': 'mw_energy_consumption'} )\n",
    "duq = duq.rename( columns={'DUQ_MW': 'mw_energy_consumption'} )\n",
    "ekpc = ekpc.rename( columns={'EKPC_MW': 'mw_energy_consumption'} )\n",
    "fe = fe.rename( columns={'FE_MW': 'mw_energy_consumption'} )\n",
    "ni = ni.rename( columns={'NI_MW': 'mw_energy_consumption'} )\n",
    "pjm = pjm.rename( columns={'PJM_Load_MW': 'mw_energy_consumption'} )\n",
    "pjme = pjme.rename( columns={'PJME_MW': 'mw_energy_consumption'} )\n",
    "pjmw = pjmw.rename( columns={'PJMW_MW': 'mw_energy_consumption'} )"
   ]
  },
  {
   "cell_type": "code",
   "execution_count": 10,
   "id": "85e7d1d5",
   "metadata": {},
   "outputs": [
    {
     "data": {
      "text/html": [
       "<div>\n",
       "<style scoped>\n",
       "    .dataframe tbody tr th:only-of-type {\n",
       "        vertical-align: middle;\n",
       "    }\n",
       "\n",
       "    .dataframe tbody tr th {\n",
       "        vertical-align: top;\n",
       "    }\n",
       "\n",
       "    .dataframe thead th {\n",
       "        text-align: right;\n",
       "    }\n",
       "</style>\n",
       "<table border=\"1\" class=\"dataframe\">\n",
       "  <thead>\n",
       "    <tr style=\"text-align: right;\">\n",
       "      <th></th>\n",
       "      <th>Datetime</th>\n",
       "      <th>mw_energy_consumption</th>\n",
       "      <th>electric_company</th>\n",
       "    </tr>\n",
       "  </thead>\n",
       "  <tbody>\n",
       "    <tr>\n",
       "      <th>50437</th>\n",
       "      <td>2010-06-30 03:00:00</td>\n",
       "      <td>1426.0</td>\n",
       "      <td>DAYTON</td>\n",
       "    </tr>\n",
       "    <tr>\n",
       "      <th>1143</th>\n",
       "      <td>2004-11-14 16:00:00</td>\n",
       "      <td>1645.0</td>\n",
       "      <td>DAYTON</td>\n",
       "    </tr>\n",
       "    <tr>\n",
       "      <th>34549</th>\n",
       "      <td>2009-09-24 22:00:00</td>\n",
       "      <td>13066.0</td>\n",
       "      <td>DOM</td>\n",
       "    </tr>\n",
       "    <tr>\n",
       "      <th>83982</th>\n",
       "      <td>2011-06-01 03:00:00</td>\n",
       "      <td>30792.0</td>\n",
       "      <td>PJME</td>\n",
       "    </tr>\n",
       "    <tr>\n",
       "      <th>22072</th>\n",
       "      <td>2007-09-25 23:00:00</td>\n",
       "      <td>2509.0</td>\n",
       "      <td>DAYTON</td>\n",
       "    </tr>\n",
       "  </tbody>\n",
       "</table>\n",
       "</div>"
      ],
      "text/plain": [
       "                  Datetime  mw_energy_consumption electric_company\n",
       "50437  2010-06-30 03:00:00                 1426.0           DAYTON\n",
       "1143   2004-11-14 16:00:00                 1645.0           DAYTON\n",
       "34549  2009-09-24 22:00:00                13066.0              DOM\n",
       "83982  2011-06-01 03:00:00                30792.0             PJME\n",
       "22072  2007-09-25 23:00:00                 2509.0           DAYTON"
      ]
     },
     "execution_count": 10,
     "metadata": {},
     "output_type": "execute_result"
    }
   ],
   "source": [
    "# Gộp các tập dữ liệu lại thành 1\n",
    "\n",
    "df_raw = pd.concat( [aep, comed, dayton, deok, dom, duq, ekpc, fe, ni, pjm, pjme, pjmw] )\n",
    "df_raw.sample(5) # check"
   ]
  },
  {
   "cell_type": "code",
   "execution_count": 11,
   "id": "7b9489de",
   "metadata": {},
   "outputs": [
    {
     "data": {
      "text/html": [
       "<div>\n",
       "<style scoped>\n",
       "    .dataframe tbody tr th:only-of-type {\n",
       "        vertical-align: middle;\n",
       "    }\n",
       "\n",
       "    .dataframe tbody tr th {\n",
       "        vertical-align: top;\n",
       "    }\n",
       "\n",
       "    .dataframe thead th {\n",
       "        text-align: right;\n",
       "    }\n",
       "</style>\n",
       "<table border=\"1\" class=\"dataframe\">\n",
       "  <thead>\n",
       "    <tr style=\"text-align: right;\">\n",
       "      <th></th>\n",
       "      <th>Datetime</th>\n",
       "      <th>mw_energy_consumption</th>\n",
       "      <th>electric_company</th>\n",
       "    </tr>\n",
       "  </thead>\n",
       "  <tbody>\n",
       "    <tr>\n",
       "      <th>6171</th>\n",
       "      <td>2009-12-19 19:00:00</td>\n",
       "      <td>13104.0</td>\n",
       "      <td>NI</td>\n",
       "    </tr>\n",
       "    <tr>\n",
       "      <th>16676</th>\n",
       "      <td>2014-01-17 14:00:00</td>\n",
       "      <td>2459.0</td>\n",
       "      <td>DAYTON</td>\n",
       "    </tr>\n",
       "    <tr>\n",
       "      <th>38927</th>\n",
       "      <td>2016-07-04 03:00:00</td>\n",
       "      <td>3630.0</td>\n",
       "      <td>PJMW</td>\n",
       "    </tr>\n",
       "    <tr>\n",
       "      <th>8835</th>\n",
       "      <td>2014-11-03 15:00:00</td>\n",
       "      <td>1608.0</td>\n",
       "      <td>DUQ</td>\n",
       "    </tr>\n",
       "    <tr>\n",
       "      <th>5011</th>\n",
       "      <td>2013-05-18 12:00:00</td>\n",
       "      <td>1822.0</td>\n",
       "      <td>DAYTON</td>\n",
       "    </tr>\n",
       "  </tbody>\n",
       "</table>\n",
       "</div>"
      ],
      "text/plain": [
       "                  Datetime  mw_energy_consumption electric_company\n",
       "6171   2009-12-19 19:00:00                13104.0               NI\n",
       "16676  2014-01-17 14:00:00                 2459.0           DAYTON\n",
       "38927  2016-07-04 03:00:00                 3630.0             PJMW\n",
       "8835   2014-11-03 15:00:00                 1608.0              DUQ\n",
       "5011   2013-05-18 12:00:00                 1822.0           DAYTON"
      ]
     },
     "execution_count": 11,
     "metadata": {},
     "output_type": "execute_result"
    }
   ],
   "source": [
    "# Tương tự đối với tập dữ liệu test\n",
    "\n",
    "aep_test['electric_company'] = 'AEP'\n",
    "comed_test['electric_company'] = 'COMED'\n",
    "dayton_test['electric_company'] = 'DAYTON'\n",
    "deok_test['electric_company'] = 'DEOK'\n",
    "dom_test['electric_company'] = 'DOM'\n",
    "duq_test['electric_company'] = 'DUQ'\n",
    "ekpc_test['electric_company'] = 'EKPC'\n",
    "fe_test['electric_company'] = 'FE'\n",
    "ni_test['electric_company'] = 'NI'\n",
    "pjm_test['electric_company'] = 'PJM'\n",
    "pjme_test['electric_company'] = 'PJME'\n",
    "pjmw_test['electric_company'] = 'PJMW'\n",
    "\n",
    "aep_test = aep_test.rename( columns={'AEP_MW': 'mw_energy_consumption'} )\n",
    "comed_test = comed_test.rename( columns={'COMED_MW': 'mw_energy_consumption'} )\n",
    "dayton_test = dayton_test.rename( columns={'DAYTON_MW': 'mw_energy_consumption'} )\n",
    "deok_test = deok_test.rename( columns={'DEOK_MW': 'mw_energy_consumption'} )\n",
    "dom_test = dom_test.rename( columns={'DOM_MW': 'mw_energy_consumption'} )\n",
    "duq_test = duq_test.rename( columns={'DUQ_MW': 'mw_energy_consumption'} )\n",
    "ekpc_test = ekpc_test.rename( columns={'EKPC_MW': 'mw_energy_consumption'} )\n",
    "fe_test = fe_test.rename( columns={'FE_MW': 'mw_energy_consumption'} )\n",
    "ni_test = ni_test.rename( columns={'NI_MW': 'mw_energy_consumption'} )\n",
    "pjm_test = pjm_test.rename( columns={'PJM_Load_MW': 'mw_energy_consumption'} )\n",
    "pjme_test = pjme_test.rename( columns={'PJME_MW': 'mw_energy_consumption'} )\n",
    "pjmw_test = pjmw_test.rename( columns={'PJMW_MW': 'mw_energy_consumption'} )\n",
    "\n",
    "#check\n",
    "df_raw_test = pd.concat( [aep_test, comed_test, dayton_test, deok_test, dom_test, duq_test, ekpc_test, fe_test, ni_test, pjm_test, pjme_test, pjmw_test] )\n",
    "df_raw_test.sample(5) "
   ]
  },
  {
   "cell_type": "code",
   "execution_count": 12,
   "id": "539df87d",
   "metadata": {},
   "outputs": [
    {
     "data": {
      "text/plain": [
       "(654095, 3)"
      ]
     },
     "execution_count": 12,
     "metadata": {},
     "output_type": "execute_result"
    }
   ],
   "source": [
    "#Kích thước tập dữ liệu train \n",
    "df_raw.shape"
   ]
  },
  {
   "cell_type": "code",
   "execution_count": 13,
   "id": "a1c83e73",
   "metadata": {},
   "outputs": [
    {
     "data": {
      "text/plain": [
       "(436072, 3)"
      ]
     },
     "execution_count": 13,
     "metadata": {},
     "output_type": "execute_result"
    }
   ],
   "source": [
    "#Kích thước tập dliệu test\n",
    "df_raw_test.shape"
   ]
  },
  {
   "cell_type": "markdown",
   "id": "863a3180",
   "metadata": {},
   "source": [
    "# 2.0 Mô tả dữ liệu\n",
    "    Đây là quá trình khám phá, tóm tắt và trực quan hóa các đặc điểm của tập dữ liệu. Với các bước lần lượt sau đây:\n",
    "        -   Mô tả kích thước dữ liệu \n",
    "        -   Mô tả kiểu dữ liệu \n",
    "        -   Kiểm tra giá trị rỗng - NULL\n",
    "        -   Chèn dữ liệu rỗng (Không cần do dữ liệu của chúng ta đầy đủ và không NULL)\n",
    "        -   Thống kê mô tả\n",
    "\n"
   ]
  },
  {
   "cell_type": "code",
   "execution_count": 14,
   "id": "0cb2a40c",
   "metadata": {},
   "outputs": [],
   "source": [
    "# Tạo 1 bản copy để tránh thay đổi dữ liệu gốc\n",
    "df1 = df_raw.copy()"
   ]
  },
  {
   "cell_type": "markdown",
   "id": "d5d1f0f6",
   "metadata": {},
   "source": [
    "# 2.1 Đổi tên cột "
   ]
  },
  {
   "cell_type": "code",
   "execution_count": 15,
   "id": "12f7ce60",
   "metadata": {},
   "outputs": [
    {
     "data": {
      "text/plain": [
       "Index(['datetime', 'mw_energy_consumption', 'electric_company'], dtype='object')"
      ]
     },
     "execution_count": 15,
     "metadata": {},
     "output_type": "execute_result"
    }
   ],
   "source": [
    "cols_old = ['Datetime', 'mw_energy_consumption', 'electric_company']\n",
    "cols_new = ['datetime', 'mw_energy_consumption', 'electric_company']\n",
    "df1.columns = cols_new\n",
    "df1.columns"
   ]
  },
  {
   "cell_type": "markdown",
   "id": "c5cc1624",
   "metadata": {},
   "source": [
    "# 2.2 Kích thước dữ liệu"
   ]
  },
  {
   "cell_type": "code",
   "execution_count": 16,
   "id": "ef57ba22",
   "metadata": {},
   "outputs": [
    {
     "name": "stdout",
     "output_type": "stream",
     "text": [
      "Số hàng: 654095\n",
      "Số cột: 3\n"
     ]
    }
   ],
   "source": [
    "print( 'Số hàng: {}'.format( df1.shape[0] ) )\n",
    "print( 'Số cột: {}'.format( df1.shape[1] ) )"
   ]
  },
  {
   "cell_type": "markdown",
   "id": "8b492bfd",
   "metadata": {},
   "source": [
    "# 2.3 Kiểu dữ liệu"
   ]
  },
  {
   "cell_type": "code",
   "execution_count": 17,
   "id": "8a054a67",
   "metadata": {},
   "outputs": [
    {
     "data": {
      "text/plain": [
       "datetime                 datetime64[ns]\n",
       "mw_energy_consumption           float64\n",
       "electric_company                 object\n",
       "dtype: object"
      ]
     },
     "execution_count": 17,
     "metadata": {},
     "output_type": "execute_result"
    }
   ],
   "source": [
    "# Chuyển kiểu dữ liệu của datatime -> \"datetime\"\n",
    "df1['datetime'] = pd.to_datetime( df1['datetime'] )\n",
    "df1.dtypes"
   ]
  },
  {
   "cell_type": "markdown",
   "id": "ad8e0d76",
   "metadata": {},
   "source": [
    "# 2.4 Kiểm tra rỗng"
   ]
  },
  {
   "cell_type": "code",
   "execution_count": 18,
   "id": "291bafed",
   "metadata": {},
   "outputs": [
    {
     "data": {
      "text/plain": [
       "datetime                 0\n",
       "mw_energy_consumption    0\n",
       "electric_company         0\n",
       "dtype: int64"
      ]
     },
     "execution_count": 18,
     "metadata": {},
     "output_type": "execute_result"
    }
   ],
   "source": [
    "df1.isna().sum()"
   ]
  },
  {
   "cell_type": "markdown",
   "id": "ead8d280",
   "metadata": {},
   "source": [
    "# 2.5 Thống kê mô tả"
   ]
  },
  {
   "cell_type": "code",
   "execution_count": 19,
   "id": "65f8ee4b",
   "metadata": {},
   "outputs": [],
   "source": [
    "# Chia chúng thành 2 phần là kiểu Numerical và Categorical. Do chúng có kĩ thuật xử lí là khác nhau\n",
    "num_attributes = df1.select_dtypes( include=['float64'] ) #dự liệu dạng số\n",
    "cat_attributes = df1.select_dtypes( exclude=['float64', 'datetime64[ns]'] ) #dữ liệu dạng văn bản"
   ]
  },
  {
   "cell_type": "code",
   "execution_count": 20,
   "id": "9c065f04",
   "metadata": {},
   "outputs": [
    {
     "data": {
      "text/html": [
       "<div>\n",
       "<style scoped>\n",
       "    .dataframe tbody tr th:only-of-type {\n",
       "        vertical-align: middle;\n",
       "    }\n",
       "\n",
       "    .dataframe tbody tr th {\n",
       "        vertical-align: top;\n",
       "    }\n",
       "\n",
       "    .dataframe thead th {\n",
       "        text-align: right;\n",
       "    }\n",
       "</style>\n",
       "<table border=\"1\" class=\"dataframe\">\n",
       "  <thead>\n",
       "    <tr style=\"text-align: right;\">\n",
       "      <th></th>\n",
       "      <th>mw_energy_consumption</th>\n",
       "    </tr>\n",
       "  </thead>\n",
       "  <tbody>\n",
       "    <tr>\n",
       "      <th>25642</th>\n",
       "      <td>1498.0</td>\n",
       "    </tr>\n",
       "  </tbody>\n",
       "</table>\n",
       "</div>"
      ],
      "text/plain": [
       "       mw_energy_consumption\n",
       "25642                 1498.0"
      ]
     },
     "execution_count": 20,
     "metadata": {},
     "output_type": "execute_result"
    }
   ],
   "source": [
    "num_attributes.sample()"
   ]
  },
  {
   "cell_type": "code",
   "execution_count": 21,
   "id": "9dcc7b2e",
   "metadata": {},
   "outputs": [
    {
     "data": {
      "text/html": [
       "<div>\n",
       "<style scoped>\n",
       "    .dataframe tbody tr th:only-of-type {\n",
       "        vertical-align: middle;\n",
       "    }\n",
       "\n",
       "    .dataframe tbody tr th {\n",
       "        vertical-align: top;\n",
       "    }\n",
       "\n",
       "    .dataframe thead th {\n",
       "        text-align: right;\n",
       "    }\n",
       "</style>\n",
       "<table border=\"1\" class=\"dataframe\">\n",
       "  <thead>\n",
       "    <tr style=\"text-align: right;\">\n",
       "      <th></th>\n",
       "      <th>electric_company</th>\n",
       "    </tr>\n",
       "  </thead>\n",
       "  <tbody>\n",
       "    <tr>\n",
       "      <th>15105</th>\n",
       "      <td>PJM</td>\n",
       "    </tr>\n",
       "  </tbody>\n",
       "</table>\n",
       "</div>"
      ],
      "text/plain": [
       "      electric_company\n",
       "15105              PJM"
      ]
     },
     "execution_count": 21,
     "metadata": {},
     "output_type": "execute_result"
    }
   ],
   "source": [
    "cat_attributes.sample()"
   ]
  },
  {
   "cell_type": "markdown",
   "id": "fa864552",
   "metadata": {},
   "source": [
    "### 2.5.1 Numerical Attributes - Phân tích thông kê mô tả số"
   ]
  },
  {
   "cell_type": "code",
   "execution_count": 22,
   "id": "71f0a315",
   "metadata": {},
   "outputs": [
    {
     "data": {
      "text/html": [
       "<div>\n",
       "<style scoped>\n",
       "    .dataframe tbody tr th:only-of-type {\n",
       "        vertical-align: middle;\n",
       "    }\n",
       "\n",
       "    .dataframe tbody tr th {\n",
       "        vertical-align: top;\n",
       "    }\n",
       "\n",
       "    .dataframe thead th {\n",
       "        text-align: right;\n",
       "    }\n",
       "</style>\n",
       "<table border=\"1\" class=\"dataframe\">\n",
       "  <thead>\n",
       "    <tr style=\"text-align: right;\">\n",
       "      <th></th>\n",
       "      <th>attributes</th>\n",
       "      <th>min</th>\n",
       "      <th>max</th>\n",
       "      <th>range</th>\n",
       "      <th>mean</th>\n",
       "      <th>median</th>\n",
       "      <th>std</th>\n",
       "      <th>skew</th>\n",
       "      <th>kurtosis</th>\n",
       "    </tr>\n",
       "  </thead>\n",
       "  <tbody>\n",
       "    <tr>\n",
       "      <th>0</th>\n",
       "      <td>mw_energy_consumption</td>\n",
       "      <td>0.0</td>\n",
       "      <td>62009.0</td>\n",
       "      <td>62009.0</td>\n",
       "      <td>11298.945239</td>\n",
       "      <td>8185.0</td>\n",
       "      <td>10650.299174</td>\n",
       "      <td>1.356182</td>\n",
       "      <td>1.185342</td>\n",
       "    </tr>\n",
       "  </tbody>\n",
       "</table>\n",
       "</div>"
      ],
      "text/plain": [
       "              attributes  min      max    range          mean  median           std      skew  kurtosis\n",
       "0  mw_energy_consumption  0.0  62009.0  62009.0  11298.945239  8185.0  10650.299174  1.356182  1.185342"
      ]
     },
     "execution_count": 22,
     "metadata": {},
     "output_type": "execute_result"
    }
   ],
   "source": [
    "# Xu hương trung tâm: trung bình, trung vị \n",
    "ct1 = pd.DataFrame( num_attributes.apply( np.mean ) ).T\n",
    "ct2 = pd.DataFrame( num_attributes.apply( np.median ) ).T\n",
    "\n",
    "# Phân tán\n",
    "d1 = pd.DataFrame( num_attributes.apply( np.std ) ).T\n",
    "d2 = pd.DataFrame( num_attributes.apply( min ) ).T\n",
    "d3 = pd.DataFrame( num_attributes.apply( max ) ).T\n",
    "d4 = pd.DataFrame( num_attributes.apply( lambda x: x.max() - x.min() ) ).T\n",
    "d5 = pd.DataFrame( num_attributes.apply( lambda x: x.skew() ) ).T\n",
    "d6 = pd.DataFrame( num_attributes.apply( lambda x: x.kurtosis() ) ).T\n",
    "\n",
    "# Gộp dữ liệu trên\n",
    "m = pd.concat( [d2, d3, d4, ct1, ct2, d1, d5, d6] ).T.reset_index()\n",
    "m.columns = ( ['attributes', 'min', 'max', 'range', 'mean', 'median', 'std', 'skew', 'kurtosis'])\n",
    "\n",
    "# Hiển thị bảng dữ liệu thống kê số\n",
    "m"
   ]
  },
  {
   "cell_type": "code",
   "execution_count": 23,
   "id": "5f107405",
   "metadata": {},
   "outputs": [
    {
     "data": {
      "text/plain": [
       "<Axes: xlabel='mw_energy_consumption', ylabel='Count'>"
      ]
     },
     "execution_count": 23,
     "metadata": {},
     "output_type": "execute_result"
    },
    {
     "data": {
      "image/png": "[encoded data removed]",
      "text/plain": [
       "<Figure size 2500x1200 with 1 Axes>"
      ]
     },
     "metadata": {},
     "output_type": "display_data"
    }
   ],
   "source": [
    "# Vẽ biểu đồ histogram (phân phối/ tần suất) \n",
    "# Trục X là mức tiêu thụ điện \n",
    "# Trục Y là số lượng (tần suất) các dòng dữ liệu có mức tiêu thụ ở mức tương ứng\n",
    "sns.histplot( df1['mw_energy_consumption'] )"
   ]
  },
  {
   "cell_type": "markdown",
   "id": "88c7e79c",
   "metadata": {},
   "source": [
    "Từ biểu đồ trên ta có thể thấy rõ ràng sự phụ thuộc tần suất xuất hiện của giá trị lượng điện năng tiêu thụ hàng giờ."
   ]
  },
  {
   "cell_type": "markdown",
   "id": "1f1bc2e7",
   "metadata": {},
   "source": [
    "### 2.5.2 Categorical Attibute - Thống kê mô tả theo đơn vị phát điện"
   ]
  },
  {
   "cell_type": "code",
   "execution_count": 24,
   "id": "a066b631",
   "metadata": {},
   "outputs": [
    {
     "data": {
      "text/plain": [
       "electric_company    12\n",
       "dtype: int64"
      ]
     },
     "execution_count": 24,
     "metadata": {},
     "output_type": "execute_result"
    }
   ],
   "source": [
    "cat_attributes.apply( lambda x: x.unique().shape[0] )\n",
    "# Ta có thể biết được giá trị trong cột có 12 giá trị khác nhau và kiểu của chúng"
   ]
  },
  {
   "cell_type": "code",
   "execution_count": 25,
   "id": "9033199d",
   "metadata": {},
   "outputs": [
    {
     "data": {
      "text/plain": [
       "<Axes: xlabel='electric_company', ylabel='mw_energy_consumption'>"
      ]
     },
     "execution_count": 25,
     "metadata": {},
     "output_type": "execute_result"
    },
    {
     "data": {
      "image/png": "[encoded data removed]",
      "text/plain": [
       "<Figure size 2500x1200 with 1 Axes>"
      ]
     },
     "metadata": {},
     "output_type": "display_data"
    }
   ],
   "source": [
    "sns.boxplot( x= 'electric_company', y='mw_energy_consumption' , data=df1 )"
   ]
  },
  {
   "cell_type": "markdown",
   "id": "1fd7f382",
   "metadata": {},
   "source": [
    "Biểu diễn dưới dạng biểu đồ hộp boxplot với Ox là tên các cty điện lực và Oy là mức tiêu thụ điện năng.\n",
    "\n",
    "    -   Đường ngang giữa hộp: Median - giá trị trung vị (Nằm giữa 50% dữ liệu)\n",
    "\n",
    "    -   Đỉnh và đáy của hộp: Đại diện cho khoảng giữa 50% dữ liệu\n",
    "\n",
    "    -   Dấu gạch dọc (whiskers): Kéo dài đến các điểm dữ liệu \n",
    "\n",
    "    -   Dấu tròn nhỏ bên ngoài (outliers): Các điểm nằm ngoài khoảng dữ liệu thông thường - có thể là bất thường hoặc cực trị "
   ]
  },
  {
   "cell_type": "markdown",
   "id": "4df13d20",
   "metadata": {},
   "source": [
    "# 3.0 Kỹ thuật tạo đặc trưng\n",
    "    Đây là 1 kĩ thuật dùng để biến đổi, tạo mới hoặc chọn lọc các đặc trưng (features) từ dữ liệu thô sao cho cải thiện hiệu suất của mô hình học máy (machine learning)."
   ]
  },
  {
   "cell_type": "code",
   "execution_count": 26,
   "id": "e45f8d9e",
   "metadata": {},
   "outputs": [],
   "source": [
    "df2 = df1.copy()"
   ]
  },
  {
   "cell_type": "markdown",
   "id": "49f717d7",
   "metadata": {},
   "source": [
    "# 3.1 Tạo giả thiết"
   ]
  },
  {
   "cell_type": "markdown",
   "id": "84c23650",
   "metadata": {},
   "source": [
    "### 3.1.1 Giả thiết về nhân khẩu "
   ]
  },
  {
   "cell_type": "markdown",
   "id": "d52aebb1",
   "metadata": {},
   "source": [
    "**1.** Người lớn tuổi thì sử dụng ít điện hơn\n",
    "\n",
    "**2.** Các gia đình đông người thì tốn nhiều điện hơn ( là rõ )\n",
    "\n",
    "**3.** Phụ nữ sử dụng nhiều điện hơn (tóc nhiều hơn=> sấy nhiều hơn)\n",
    "\n",
    "**4.** Do gia đình đi làm, trẻ em đi học mà sáng sớm và chiều muộn sẽ sử dụng nhiều điện hơn"
   ]
  },
  {
   "cell_type": "markdown",
   "id": "dc220271",
   "metadata": {},
   "source": [
    "### 3.1.2 Giả thiết về địa lý"
   ]
  },
  {
   "cell_type": "markdown",
   "id": "15862fa0",
   "metadata": {},
   "source": [
    "**1.** Mùa hè nóng dùng nhiều điện hơn do sử dụng điều hòa \n",
    "\n",
    "**2.** Nơi có nhiều thảm hỏa (động đất, bão tố) thì sẽ dùng nhiều điện hơn \n"
   ]
  },
  {
   "cell_type": "markdown",
   "id": "74a9c354",
   "metadata": {},
   "source": [
    "### 3.1.3 Giả thiết về văn hóa"
   ]
  },
  {
   "cell_type": "markdown",
   "id": "7f3fb7c7",
   "metadata": {},
   "source": [
    "**1.** Nơi có bộ lạc, dân tộc thiểu số thì dùng ít điện hơn\n",
    "\n",
    "**2.** Nơi ở cộng đồng sử dụng ít điện hơn\n",
    "\n",
    "**3.** Nhưng ngày lễ, lễ hội diễn ra sẽ sử dụng nhiều điện hơn \n"
   ]
  },
  {
   "cell_type": "markdown",
   "id": "f921b057",
   "metadata": {},
   "source": [
    "# 3.2 Giả thiết sử dụng"
   ]
  },
  {
   "cell_type": "markdown",
   "id": "fd0f5026",
   "metadata": {},
   "source": [
    "Dựa vào tính chất của Dataframe ta sẽ quyết định sử dụng những giả thiết sau để phân tích\n",
    "\n",
    "**1.** Sử dụng điện nhiều vào sáng sớm và chiều tối.\n",
    "\n",
    "**2.** Các mùa có thời tiết nóng hoặc lạnh hơn sử dụng nhiều điện hơn \n",
    "\n",
    "**3.** Ngày lễ sử dụng nhiều điện hơn \n",
    "\n",
    "**4.** Cuối tuần sử dụng nhiều điện hơn "
   ]
  },
  {
   "cell_type": "markdown",
   "id": "484c5f7a",
   "metadata": {},
   "source": [
    "# 3.3 Feature Engineering"
   ]
  },
  {
   "cell_type": "code",
   "execution_count": 33,
   "id": "f85457d1",
   "metadata": {},
   "outputs": [],
   "source": [
    "# Ta cần lượng thông tin chỉ dựa vào các ngày mà không cần đến giờ\n",
    "# Tạo 1 cột date mới trong df2, bỏ qua giờ (chỉ tính ngày) \n",
    "\n",
    "df2['date'] = df2['datetime'].dt.date\n",
    "\n",
    "# Tọa cột year để phân tích xu hướng theo năm\n",
    "\n",
    "df2['year'] = df2['datetime'].dt.year\n",
    "\n",
    "# Tạo cột tháng \n",
    "\n",
    "df2['month'] = df2['datetime'].dt.month\n",
    "\n",
    "# tạo cột giờ (0 -> 23)\n",
    "\n",
    "df2['hour_of_day'] = df2['datetime'].dt.hour\n",
    "\n",
    "# Xu hướng theo mùa:\n",
    "\n",
    "# +> Mùa đồng: Từ tháng 12 đến tháng 2\n",
    "# +> Mùa xuân: Từ tháng 3 đén tháng 5\n",
    "# +> Mùa hè: Từ tháng 6 đến tháng 8\n",
    "# +> Mùa đông: Từ tháng 9 đến tháng 11\n",
    "\n",
    "df2['season'] = df2['datetime'].apply( lambda x: 'Winter' if x.month == 12 or x.month == 1 or x.month == 2 \n",
    "                                      else 'Spring' if  x.month == 3 or x.month == 4 or x.month == 5 \n",
    "                                      else 'Summer' if  x.month == 6 or x.month == 7 or x.month == 8 \n",
    "                                      else 'Autumn' if  x.month == 9 or x.month == 10 or x.month == 11 else '')\n",
    "\n",
    "\n",
    "# Xu hướng ngày lễ hội:\n",
    "\n",
    "# Sử dụng thư viện holidays để kiểm tra xem 1 ngày có phải ngày lễ tại Mỹ hay không\n",
    "# Nếu là lễ => \"Holiday\", ngày hôm sau là lễ => \"Holiday Eve\", Còn lại trả về \"Normal day\"\n",
    "\n",
    "us_holidays = set(holidays.US().keys())\n",
    "\n",
    "def get_holiday_status(date):\n",
    "    next_day = date.date() + datetime.timedelta(days=1)\n",
    "    if date.date() in us_holidays:\n",
    "        return 'Holiday'\n",
    "    elif next_day in us_holidays:\n",
    "        return 'Holiday Eve'\n",
    "    return 'Normal day'\n",
    "\n",
    "df2['holidays'] = df2['datetime'].apply(get_holiday_status)\n",
    "\n",
    "# Ngày trong tuần: \n",
    "\n",
    "# 0 - Monday\n",
    "# 1 - Tuesday\n",
    "# 2 - Wednesday\n",
    "# 3 - Thursday\n",
    "# 4 - Friday\n",
    "# 5 - Saturday\n",
    "# 6 - Sunday\n",
    "\n",
    "df2['day_of_week'] = df2['datetime'].dt.weekday\n"
   ]
  },
  {
   "cell_type": "code",
   "execution_count": 34,
   "id": "464c4782",
   "metadata": {},
   "outputs": [
    {
     "data": {
      "text/plain": [
       "datetime                 datetime64[ns]\n",
       "mw_energy_consumption           float64\n",
       "electric_company                 object\n",
       "date                     datetime64[ns]\n",
       "year                              int32\n",
       "month                             int32\n",
       "hour_of_day                       int32\n",
       "season                           object\n",
       "holidays                         object\n",
       "day_of_week                       int32\n",
       "dtype: object"
      ]
     },
     "execution_count": 34,
     "metadata": {},
     "output_type": "execute_result"
    }
   ],
   "source": [
    "# Chuyển đổi kiểu dữ liệu trong cột date sang datetime \n",
    "df2['date'] = pd.to_datetime(df2['date'])\n",
    "# check\n",
    "df2.dtypes"
   ]
  },
  {
   "cell_type": "code",
   "execution_count": 36,
   "id": "9351a8a4",
   "metadata": {},
   "outputs": [],
   "source": [
    "#Chia kiểu dữ liệu thành Numerical và Categorical \n",
    "\n",
    "num_attributes = df2.select_dtypes( include=['int64', 'float64'] )\n",
    "cat_attributes = df2.select_dtypes( exclude=['int64', 'float64', 'datetime64[ns]'] )"
   ]
  },
  {
   "cell_type": "code",
   "execution_count": 37,
   "id": "4a7cff2e",
   "metadata": {},
   "outputs": [
    {
     "data": {
      "text/html": [
       "<div>\n",
       "<style scoped>\n",
       "    .dataframe tbody tr th:only-of-type {\n",
       "        vertical-align: middle;\n",
       "    }\n",
       "\n",
       "    .dataframe tbody tr th {\n",
       "        vertical-align: top;\n",
       "    }\n",
       "\n",
       "    .dataframe thead th {\n",
       "        text-align: right;\n",
       "    }\n",
       "</style>\n",
       "<table border=\"1\" class=\"dataframe\">\n",
       "  <thead>\n",
       "    <tr style=\"text-align: right;\">\n",
       "      <th></th>\n",
       "      <th>47098</th>\n",
       "      <th>22084</th>\n",
       "      <th>2237</th>\n",
       "      <th>24097</th>\n",
       "      <th>33529</th>\n",
       "      <th>5321</th>\n",
       "      <th>22452</th>\n",
       "      <th>35143</th>\n",
       "      <th>21741</th>\n",
       "      <th>25785</th>\n",
       "    </tr>\n",
       "  </thead>\n",
       "  <tbody>\n",
       "    <tr>\n",
       "      <th>datetime</th>\n",
       "      <td>2007-05-19 22:00:00</td>\n",
       "      <td>2014-06-25 08:00:00</td>\n",
       "      <td>2011-09-29 07:00:00</td>\n",
       "      <td>2008-12-02 07:00:00</td>\n",
       "      <td>2008-06-04 10:00:00</td>\n",
       "      <td>2005-05-24 19:00:00</td>\n",
       "      <td>2007-09-09 19:00:00</td>\n",
       "      <td>2006-09-29 17:00:00</td>\n",
       "      <td>2006-03-10 03:00:00</td>\n",
       "      <td>2007-04-23 16:00:00</td>\n",
       "    </tr>\n",
       "    <tr>\n",
       "      <th>mw_energy_consumption</th>\n",
       "      <td>4693.0</td>\n",
       "      <td>3300.0</td>\n",
       "      <td>9050.0</td>\n",
       "      <td>12859.0</td>\n",
       "      <td>17260.0</td>\n",
       "      <td>1639.0</td>\n",
       "      <td>18652.0</td>\n",
       "      <td>4999.0</td>\n",
       "      <td>9296.0</td>\n",
       "      <td>15970.0</td>\n",
       "    </tr>\n",
       "    <tr>\n",
       "      <th>electric_company</th>\n",
       "      <td>PJMW</td>\n",
       "      <td>DEOK</td>\n",
       "      <td>COMED</td>\n",
       "      <td>DOM</td>\n",
       "      <td>AEP</td>\n",
       "      <td>DUQ</td>\n",
       "      <td>AEP</td>\n",
       "      <td>PJMW</td>\n",
       "      <td>NI</td>\n",
       "      <td>AEP</td>\n",
       "    </tr>\n",
       "    <tr>\n",
       "      <th>date</th>\n",
       "      <td>2007-05-19 00:00:00</td>\n",
       "      <td>2014-06-25 00:00:00</td>\n",
       "      <td>2011-09-29 00:00:00</td>\n",
       "      <td>2008-12-02 00:00:00</td>\n",
       "      <td>2008-06-04 00:00:00</td>\n",
       "      <td>2005-05-24 00:00:00</td>\n",
       "      <td>2007-09-09 00:00:00</td>\n",
       "      <td>2006-09-29 00:00:00</td>\n",
       "      <td>2006-03-10 00:00:00</td>\n",
       "      <td>2007-04-23 00:00:00</td>\n",
       "    </tr>\n",
       "    <tr>\n",
       "      <th>year</th>\n",
       "      <td>2007</td>\n",
       "      <td>2014</td>\n",
       "      <td>2011</td>\n",
       "      <td>2008</td>\n",
       "      <td>2008</td>\n",
       "      <td>2005</td>\n",
       "      <td>2007</td>\n",
       "      <td>2006</td>\n",
       "      <td>2006</td>\n",
       "      <td>2007</td>\n",
       "    </tr>\n",
       "    <tr>\n",
       "      <th>month</th>\n",
       "      <td>5</td>\n",
       "      <td>6</td>\n",
       "      <td>9</td>\n",
       "      <td>12</td>\n",
       "      <td>6</td>\n",
       "      <td>5</td>\n",
       "      <td>9</td>\n",
       "      <td>9</td>\n",
       "      <td>3</td>\n",
       "      <td>4</td>\n",
       "    </tr>\n",
       "    <tr>\n",
       "      <th>hour_of_day</th>\n",
       "      <td>22</td>\n",
       "      <td>8</td>\n",
       "      <td>7</td>\n",
       "      <td>7</td>\n",
       "      <td>10</td>\n",
       "      <td>19</td>\n",
       "      <td>19</td>\n",
       "      <td>17</td>\n",
       "      <td>3</td>\n",
       "      <td>16</td>\n",
       "    </tr>\n",
       "    <tr>\n",
       "      <th>season</th>\n",
       "      <td>Spring</td>\n",
       "      <td>Summer</td>\n",
       "      <td>Autumn</td>\n",
       "      <td>Winter</td>\n",
       "      <td>Summer</td>\n",
       "      <td>Spring</td>\n",
       "      <td>Autumn</td>\n",
       "      <td>Autumn</td>\n",
       "      <td>Spring</td>\n",
       "      <td>Spring</td>\n",
       "    </tr>\n",
       "    <tr>\n",
       "      <th>holidays</th>\n",
       "      <td>Normal day</td>\n",
       "      <td>Normal day</td>\n",
       "      <td>Normal day</td>\n",
       "      <td>Normal day</td>\n",
       "      <td>Normal day</td>\n",
       "      <td>Normal day</td>\n",
       "      <td>Normal day</td>\n",
       "      <td>Normal day</td>\n",
       "      <td>Normal day</td>\n",
       "      <td>Normal day</td>\n",
       "    </tr>\n",
       "    <tr>\n",
       "      <th>day_of_week</th>\n",
       "      <td>5</td>\n",
       "      <td>2</td>\n",
       "      <td>3</td>\n",
       "      <td>1</td>\n",
       "      <td>2</td>\n",
       "      <td>1</td>\n",
       "      <td>6</td>\n",
       "      <td>4</td>\n",
       "      <td>4</td>\n",
       "      <td>0</td>\n",
       "    </tr>\n",
       "  </tbody>\n",
       "</table>\n",
       "</div>"
      ],
      "text/plain": [
       "                                     47098                22084                2237                 24097                33529                5321                 22452                35143                21741                25785\n",
       "datetime               2007-05-19 22:00:00  2014-06-25 08:00:00  2011-09-29 07:00:00  2008-12-02 07:00:00  2008-06-04 10:00:00  2005-05-24 19:00:00  2007-09-09 19:00:00  2006-09-29 17:00:00  2006-03-10 03:00:00  2007-04-23 16:00:00\n",
       "mw_energy_consumption               4693.0               3300.0               9050.0              12859.0              17260.0               1639.0              18652.0               4999.0               9296.0              15970.0\n",
       "electric_company                      PJMW                 DEOK                COMED                  DOM                  AEP                  DUQ                  AEP                 PJMW                   NI                  AEP\n",
       "date                   2007-05-19 00:00:00  2014-06-25 00:00:00  2011-09-29 00:00:00  2008-12-02 00:00:00  2008-06-04 00:00:00  2005-05-24 00:00:00  2007-09-09 00:00:00  2006-09-29 00:00:00  2006-03-10 00:00:00  2007-04-23 00:00:00\n",
       "year                                  2007                 2014                 2011                 2008                 2008                 2005                 2007                 2006                 2006                 2007\n",
       "month                                    5                    6                    9                   12                    6                    5                    9                    9                    3                    4\n",
       "hour_of_day                             22                    8                    7                    7                   10                   19                   19                   17                    3                   16\n",
       "season                              Spring               Summer               Autumn               Winter               Summer               Spring               Autumn               Autumn               Spring               Spring\n",
       "holidays                        Normal day           Normal day           Normal day           Normal day           Normal day           Normal day           Normal day           Normal day           Normal day           Normal day\n",
       "day_of_week                              5                    2                    3                    1                    2                    1                    6                    4                    4                    0"
      ]
     },
     "execution_count": 37,
     "metadata": {},
     "output_type": "execute_result"
    }
   ],
   "source": [
    "#Check\n",
    "df2.sample(10).T"
   ]
  },
  {
   "cell_type": "markdown",
   "id": "a061c13f",
   "metadata": {},
   "source": [
    "# 4.0 - Lọc biến"
   ]
  },
  {
   "cell_type": "markdown",
   "id": "7634332a",
   "metadata": {},
   "source": [
    "Lọc biến (Variable Filtering) được sử dụng trong giai đoạn tiền xử lý dữ liệu (data preprocessing) hoặc trong quá trình chọn đặc trưng, nhằm giảm số lượng biến đầu vào trước khi đưa vào mô hình. Việc này giúp tăng hiệu quả mô hình, làm giảm overfitting, và cải thiện hiệu suất tính toán."
   ]
  },
  {
   "cell_type": "code",
   "execution_count": 38,
   "id": "3d3f027a",
   "metadata": {},
   "outputs": [],
   "source": [
    "# Tạo bản copy mới \n",
    "df3 = df2.copy()"
   ]
  },
  {
   "cell_type": "code",
   "execution_count": null,
   "id": "f28eefbc",
   "metadata": {},
   "outputs": [
    {
     "data": {
      "text/html": [
       "<div>\n",
       "<style scoped>\n",
       "    .dataframe tbody tr th:only-of-type {\n",
       "        vertical-align: middle;\n",
       "    }\n",
       "\n",
       "    .dataframe tbody tr th {\n",
       "        vertical-align: top;\n",
       "    }\n",
       "\n",
       "    .dataframe thead th {\n",
       "        text-align: right;\n",
       "    }\n",
       "</style>\n",
       "<table border=\"1\" class=\"dataframe\">\n",
       "  <thead>\n",
       "    <tr style=\"text-align: right;\">\n",
       "      <th></th>\n",
       "      <th>datetime</th>\n",
       "      <th>mw_energy_consumption</th>\n",
       "      <th>electric_company</th>\n",
       "      <th>date</th>\n",
       "      <th>year</th>\n",
       "      <th>month</th>\n",
       "      <th>hour_of_day</th>\n",
       "      <th>season</th>\n",
       "      <th>holidays</th>\n",
       "      <th>day_of_week</th>\n",
       "    </tr>\n",
       "  </thead>\n",
       "  <tbody>\n",
       "    <tr>\n",
       "      <th>0</th>\n",
       "      <td>2004-12-31 01:00:00</td>\n",
       "      <td>13478.0</td>\n",
       "      <td>AEP</td>\n",
       "      <td>2004-12-31</td>\n",
       "      <td>2004</td>\n",
       "      <td>12</td>\n",
       "      <td>1</td>\n",
       "      <td>Winter</td>\n",
       "      <td>Normal day</td>\n",
       "      <td>4</td>\n",
       "    </tr>\n",
       "    <tr>\n",
       "      <th>1</th>\n",
       "      <td>2004-12-31 02:00:00</td>\n",
       "      <td>12865.0</td>\n",
       "      <td>AEP</td>\n",
       "      <td>2004-12-31</td>\n",
       "      <td>2004</td>\n",
       "      <td>12</td>\n",
       "      <td>2</td>\n",
       "      <td>Winter</td>\n",
       "      <td>Normal day</td>\n",
       "      <td>4</td>\n",
       "    </tr>\n",
       "    <tr>\n",
       "      <th>2</th>\n",
       "      <td>2004-12-31 03:00:00</td>\n",
       "      <td>12577.0</td>\n",
       "      <td>AEP</td>\n",
       "      <td>2004-12-31</td>\n",
       "      <td>2004</td>\n",
       "      <td>12</td>\n",
       "      <td>3</td>\n",
       "      <td>Winter</td>\n",
       "      <td>Normal day</td>\n",
       "      <td>4</td>\n",
       "    </tr>\n",
       "    <tr>\n",
       "      <th>3</th>\n",
       "      <td>2004-12-31 04:00:00</td>\n",
       "      <td>12517.0</td>\n",
       "      <td>AEP</td>\n",
       "      <td>2004-12-31</td>\n",
       "      <td>2004</td>\n",
       "      <td>12</td>\n",
       "      <td>4</td>\n",
       "      <td>Winter</td>\n",
       "      <td>Normal day</td>\n",
       "      <td>4</td>\n",
       "    </tr>\n",
       "    <tr>\n",
       "      <th>4</th>\n",
       "      <td>2004-12-31 05:00:00</td>\n",
       "      <td>12670.0</td>\n",
       "      <td>AEP</td>\n",
       "      <td>2004-12-31</td>\n",
       "      <td>2004</td>\n",
       "      <td>12</td>\n",
       "      <td>5</td>\n",
       "      <td>Winter</td>\n",
       "      <td>Normal day</td>\n",
       "      <td>4</td>\n",
       "    </tr>\n",
       "  </tbody>\n",
       "</table>\n",
       "</div>"
      ],
      "text/plain": [
       "             datetime  mw_energy_consumption electric_company       date  year  month  hour_of_day  season    holidays  day_of_week\n",
       "0 2004-12-31 01:00:00                13478.0              AEP 2004-12-31  2004     12            1  Winter  Normal day            4\n",
       "1 2004-12-31 02:00:00                12865.0              AEP 2004-12-31  2004     12            2  Winter  Normal day            4\n",
       "2 2004-12-31 03:00:00                12577.0              AEP 2004-12-31  2004     12            3  Winter  Normal day            4\n",
       "3 2004-12-31 04:00:00                12517.0              AEP 2004-12-31  2004     12            4  Winter  Normal day            4\n",
       "4 2004-12-31 05:00:00                12670.0              AEP 2004-12-31  2004     12            5  Winter  Normal day            4"
      ]
     },
     "execution_count": 39,
     "metadata": {},
     "output_type": "execute_result"
    }
   ],
   "source": [
    "df3.head()\n",
    "# Dữ liệu đủ tốt và không cần thực hiện lọc biến"
   ]
  },
  {
   "cell_type": "markdown",
   "id": "07dab208",
   "metadata": {},
   "source": [
    "# 5.0 Khai phá dữ liệu - EDA"
   ]
  },
  {
   "cell_type": "markdown",
   "id": "04402a43",
   "metadata": {},
   "source": [
    "    EDA là quá trình khai phá dữ liệu để hiểu rõ hơn về: \n",
    "\n",
    "**1.** Cấu trúc dữ liệu \n",
    "\n",
    "**2.** Phân phối của các biến\n",
    "\n",
    "**3.** Mối quan hệ giữa các biến \n",
    "\n",
    "**4.** Sự tồn tại của giá trị thiếu, ngoại lệ hay nhiễu\n",
    "\n",
    "**5.** Những mô hình tiềm năng hoặc giả thiết cần kiểm tra sau này\n",
    "    \n",
    "    Các bước thực hiện EDA của ta trong PRJ này sẽ là:\n",
    "        \n",
    "        Phân tích đơn biên -> Phân tích hai biến -> Phân tích đa biến "
   ]
  },
  {
   "cell_type": "code",
   "execution_count": 40,
   "id": "f532af87",
   "metadata": {},
   "outputs": [],
   "source": [
    "# Tạo bản copy \n",
    "df4 = df3.copy()"
   ]
  },
  {
   "cell_type": "markdown",
   "id": "f5bbf964",
   "metadata": {},
   "source": [
    "## 5.1 Phân tích đơn biến"
   ]
  },
  {
   "cell_type": "markdown",
   "id": "e78cf70d",
   "metadata": {},
   "source": [
    "### 5.1.1 Biến phản hồi"
   ]
  },
  {
   "cell_type": "code",
   "execution_count": 41,
   "id": "3a85d2af",
   "metadata": {},
   "outputs": [
    {
     "data": {
      "text/plain": [
       "<Axes: xlabel='mw_energy_consumption', ylabel='Count'>"
      ]
     },
     "execution_count": 41,
     "metadata": {},
     "output_type": "execute_result"
    },
    {
     "data": {
      "image/png": "[encoded data removed]",
      "text/plain": [
       "<Figure size 2500x1200 with 1 Axes>"
      ]
     },
     "metadata": {},
     "output_type": "display_data"
    }
   ],
   "source": [
    "sns.histplot( df4['mw_energy_consumption'], kde=True )"
   ]
  },
  {
   "cell_type": "code",
   "execution_count": null,
   "id": "e059f4fb",
   "metadata": {},
   "outputs": [],
   "source": [
    "# Trên là hình ảnh biểu đồ histogram (biểu đồ tần suất)\n",
    "# Trục hoành là giá trị điện tiêu thụ , Trục tung là tần số đạt giá trị điện tiêu thụ đó (Count)"
   ]
  },
  {
   "cell_type": "markdown",
   "id": "20ee54e4",
   "metadata": {},
   "source": [
    "#### Phân tích biểu đồ \n",
    "\n",
    "**1.** Phân phối không đều (lệch phải), hầu hết các giá trị tập trung ở mức thấp (gần 0 - 10kMW)\n",
    "\n",
    "**2.** Nhiều đỉnh nhỏ -> Dữ liệu có nhiều sự thay đổi do nhiều feature khác nhau tác động \n",
    "\n",
    "**3.** Tồn tại số lượng oulier cao -> Vùng điện nằm ngoài 40kMW vẫn tồn tại -> Nhóm sử dụng điện lớn bất thường (có thể là ngày lễ)\n",
    "\n",
    "**4.** Tiêu thu trung bình ở ngưỡng 0~2kMW"
   ]
  },
  {
   "cell_type": "markdown",
   "id": "88b403b1",
   "metadata": {},
   "source": [
    "### 5.1.2 Biến kiểu số "
   ]
  },
  {
   "cell_type": "code",
   "execution_count": 42,
   "id": "eff09589",
   "metadata": {},
   "outputs": [
    {
     "data": {
      "text/plain": [
       "array([[<Axes: title={'center': 'mw_energy_consumption'}>]], dtype=object)"
      ]
     },
     "execution_count": 42,
     "metadata": {},
     "output_type": "execute_result"
    },
    {
     "data": {
      "image/png": "[encoded data removed]",
      "text/plain": [
       "<Figure size 2500x1200 with 1 Axes>"
      ]
     },
     "metadata": {},
     "output_type": "display_data"
    }
   ],
   "source": [
    "num_attributes.hist( bins=25 )"
   ]
  }
 ],
 "metadata": {
  "kernelspec": {
   "display_name": "base",
   "language": "python",
   "name": "python3"
  },
  "language_info": {
   "codemirror_mode": {
    "name": "ipython",
    "version": 3
   },
   "file_extension": ".py",
   "mimetype": "text/x-python",
   "name": "python",
   "nbconvert_exporter": "python",
   "pygments_lexer": "ipython3",
   "version": "3.12.7"
  }
 },
 "nbformat": 4,
 "nbformat_minor": 5
}
