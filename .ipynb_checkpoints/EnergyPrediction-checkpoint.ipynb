{
 "cells": [
  {
   "cell_type": "code",
   "execution_count": 31,
   "id": "8735ef85-f528-4d2b-83f1-3b0974c0d102",
   "metadata": {},
   "outputs": [],
   "source": [
    "import pandas as pd\n",
    "import numpy as np\n",
    "from sklearn.ensemble import RandomForestRegressor\n",
    "from sklearn.metrics import mean_squared_error, mean_absolute_error\n",
    "import os\n",
    "import matplotlib.pyplot as plt\n",
    "import holidays  # Thêm thư viện holidays\n",
    "import math  # Thêm để tính sin, cos"
   ]
  },
  {
   "cell_type": "code",
   "execution_count": 17,
   "id": "5485bbb1-4fec-417a-afad-5a1f4bd61734",
   "metadata": {},
   "outputs": [
    {
     "name": "stdout",
     "output_type": "stream",
     "text": [
      "File dữ liệu đã được tìm thấy: data\\pjm_hourly_est.csv\n"
     ]
    }
   ],
   "source": [
    "# Định nghĩa đường dẫn tương đối (thư mục hiện tại)\n",
    "data_dir = \"data\" \n",
    "\n",
    "# Đường dẫn đến file tổng hợp\n",
    "data_file = os.path.join(data_dir, \"pjm_hourly_est.csv\")\n",
    "\n",
    "# Kiểm tra file có tồn tại không\n",
    "if not os.path.exists(data_file):\n",
    "    print(f\"File không tồn tại: {data_file}\")\n",
    "else:\n",
    "    print(\"File dữ liệu đã được tìm thấy:\", data_file)"
   ]
  },
  {
   "cell_type": "code",
   "execution_count": 27,
   "id": "fe7cce77-d334-469d-854a-4f327cd34e1e",
   "metadata": {},
   "outputs": [
    {
     "name": "stderr",
     "output_type": "stream",
     "text": [
      "C:\\Users\\fpt shop\\AppData\\Local\\Temp\\ipykernel_21856\\2772566984.py:20: FutureWarning: DataFrame.fillna with 'method' is deprecated and will raise in a future version. Use obj.ffill() or obj.bfill() instead.\n",
      "  train_data = train_data.fillna(method='ffill')\n"
     ]
    },
    {
     "name": "stdout",
     "output_type": "stream",
     "text": [
      "Dữ liệu train đã tải và lưu vào data2/train.csv:\n",
      "                 Datetime  AEP  DAYTON  DOM  EKPC  FE  PJM_Load_MW    PJMW  \\\n",
      "32896 2002-12-31 01:00:00  NaN     NaN  NaN   NaN NaN      26498.0  5077.0   \n",
      "32897 2002-12-31 02:00:00  NaN     NaN  NaN   NaN NaN      25147.0  4939.0   \n",
      "32898 2002-12-31 03:00:00  NaN     NaN  NaN   NaN NaN      24574.0  4885.0   \n",
      "32899 2002-12-31 04:00:00  NaN     NaN  NaN   NaN NaN      24393.0  4857.0   \n",
      "32900 2002-12-31 05:00:00  NaN     NaN  NaN   NaN NaN      24860.0  4930.0   \n",
      "\n",
      "       PJM_Load  \n",
      "32896       NaN  \n",
      "32897       NaN  \n",
      "32898       NaN  \n",
      "32899       NaN  \n",
      "32900       NaN  \n"
     ]
    }
   ],
   "source": [
    "# Đọc file tổng hợp\n",
    "df = pd.read_csv(data_file)\n",
    "\n",
    "# Danh sách các cột thuộc tập train\n",
    "train_columns = ['AEP', 'DAYTON', 'DOM', 'EKPC', 'FE', 'PJME', 'PJMW', 'PJM_Load']\n",
    "\n",
    "# Tạo DataFrame cho tập train\n",
    "train_data = df[['Datetime'] + train_columns].copy()\n",
    "\n",
    "# Chuyển Datetime sang định dạng datetime\n",
    "train_data['Datetime'] = pd.to_datetime(train_data['Datetime'])\n",
    "\n",
    "# Chọn PJME làm mục tiêu (PJM_Load_MW)\n",
    "train_data = train_data.rename(columns={'PJME': 'PJM_Load_MW'})\n",
    "\n",
    "# Loại bỏ các hàng có giá trị NaN trong cột 'PJM_Load_MW'\n",
    "train_data = train_data.dropna(subset=['PJM_Load_MW'])\n",
    "\n",
    "# Điền giá trị thiếu trong các cột đặc trưng (nếu có)\n",
    "train_data = train_data.fillna(method='ffill')\n",
    "\n",
    "# Tạo thư mục data2 nếu chưa tồn tại\n",
    "output_dir = \"data2\"\n",
    "if not os.path.exists(output_dir):\n",
    "    os.makedirs(output_dir)\n",
    "\n",
    "# Lưu dữ liệu train vào data2/train.csv\n",
    "train_data.to_csv(os.path.join(output_dir, \"train.csv\"), index=False)\n",
    "\n",
    "print(\"Dữ liệu train đã tải và lưu vào data2/train.csv:\")\n",
    "print(train_data.head())"
   ]
  },
  {
   "cell_type": "code",
   "execution_count": 28,
   "id": "c722bb35-e1cf-4bf6-8644-1b21d675591a",
   "metadata": {},
   "outputs": [
    {
     "name": "stderr",
     "output_type": "stream",
     "text": [
      "C:\\Users\\fpt shop\\AppData\\Local\\Temp\\ipykernel_21856\\2654235414.py:17: FutureWarning: DataFrame.fillna with 'method' is deprecated and will raise in a future version. Use obj.ffill() or obj.bfill() instead.\n",
      "  test_data = test_data.fillna(method='ffill')\n"
     ]
    },
    {
     "name": "stdout",
     "output_type": "stream",
     "text": [
      "Dữ liệu test đã tải và lưu vào data2/test.csv:\n",
      "                  Datetime  PJM_Load_MW  DEOK     DUQ  NI\n",
      "111765 2011-12-31 01:00:00       9970.0   NaN  1423.0 NaN\n",
      "111766 2011-12-31 02:00:00       9428.0   NaN  1367.0 NaN\n",
      "111767 2011-12-31 03:00:00       9059.0   NaN  1344.0 NaN\n",
      "111768 2011-12-31 04:00:00       8817.0   NaN  1320.0 NaN\n",
      "111769 2011-12-31 05:00:00       8743.0   NaN  1320.0 NaN\n"
     ]
    }
   ],
   "source": [
    "# Danh sách các cột thuộc tập test\n",
    "test_columns = ['COMED', 'DEOK', 'DUQ', 'NI']\n",
    "\n",
    "# Tạo DataFrame cho tập test\n",
    "test_data = df[['Datetime'] + test_columns].copy()\n",
    "\n",
    "# Chuyển Datetime sang định dạng datetime\n",
    "test_data['Datetime'] = pd.to_datetime(test_data['Datetime'])\n",
    "\n",
    "# Chọn COMED làm mục tiêu (PJM_Load_MW)\n",
    "test_data = test_data.rename(columns={'COMED': 'PJM_Load_MW'})\n",
    "\n",
    "# Loại bỏ các hàng có giá trị NaN trong cột 'PJM_Load_MW'\n",
    "test_data = test_data.dropna(subset=['PJM_Load_MW'])\n",
    "\n",
    "# Điền giá trị thiếu trong các cột đặc trưng (nếu có)\n",
    "test_data = test_data.fillna(method='ffill')\n",
    "\n",
    "# Tạo thư mục data2 nếu chưa tồn tại\n",
    "output_dir = \"data2\"\n",
    "if not os.path.exists(output_dir):\n",
    "    os.makedirs(output_dir)\n",
    "\n",
    "# Lưu dữ liệu test vào data2/test.csv\n",
    "test_data.to_csv(os.path.join(output_dir, \"test.csv\"), index=False)\n",
    "\n",
    "print(\"Dữ liệu test đã tải và lưu vào data2/test.csv:\")\n",
    "print(test_data.head())"
   ]
  },
  {
   "cell_type": "code",
   "execution_count": 29,
   "id": "7891528e-5bdc-4266-bb8e-879effcb4ce9",
   "metadata": {},
   "outputs": [
    {
     "name": "stdout",
     "output_type": "stream",
     "text": [
      "Dữ liệu train sau khi tiền xử lý:\n",
      "                 Datetime  AEP  DAYTON  DOM  EKPC  FE  PJM_Load_MW    PJMW  \\\n",
      "41630 2002-01-01 01:00:00  NaN     NaN  NaN   NaN NaN      30393.0  5038.0   \n",
      "41631 2002-01-01 02:00:00  NaN     NaN  NaN   NaN NaN      29265.0  5038.0   \n",
      "41632 2002-01-01 03:00:00  NaN     NaN  NaN   NaN NaN      28357.0  5038.0   \n",
      "41633 2002-01-01 04:00:00  NaN     NaN  NaN   NaN NaN      27899.0  5038.0   \n",
      "41634 2002-01-01 05:00:00  NaN     NaN  NaN   NaN NaN      28057.0  5038.0   \n",
      "\n",
      "       PJM_Load  \n",
      "41630       NaN  \n",
      "41631       NaN  \n",
      "41632       NaN  \n",
      "41633       NaN  \n",
      "41634       NaN  \n",
      "Dữ liệu test sau khi tiền xử lý:\n",
      "                  Datetime  PJM_Load_MW  DEOK     DUQ  NI\n",
      "120499 2011-01-01 01:00:00       9631.0   NaN  1389.0 NaN\n",
      "120500 2011-01-01 02:00:00       9273.0   NaN  1322.0 NaN\n",
      "120501 2011-01-01 03:00:00       9011.0   NaN  1287.0 NaN\n",
      "120502 2011-01-01 04:00:00       8741.0   NaN  1263.0 NaN\n",
      "120503 2011-01-01 05:00:00       8694.0   NaN  1252.0 NaN\n"
     ]
    }
   ],
   "source": [
    "# Chuyển cột Datetime sang định dạng datetime\n",
    "train_data['Datetime'] = pd.to_datetime(train_data['Datetime'])\n",
    "test_data['Datetime'] = pd.to_datetime(test_data['Datetime'])\n",
    "\n",
    "# Sắp xếp theo thời gian\n",
    "train_data = train_data.sort_values('Datetime')\n",
    "test_data = test_data.sort_values('Datetime')\n",
    "\n",
    "# Xử lý giá trị thiếu (nếu còn)\n",
    "train_data = train_data.ffill()\n",
    "test_data = test_data.ffill()\n",
    "\n",
    "print(\"Dữ liệu train sau khi tiền xử lý:\")\n",
    "print(train_data.head())\n",
    "print(\"Dữ liệu test sau khi tiền xử lý:\")\n",
    "print(test_data.head())"
   ]
  },
  {
   "cell_type": "code",
   "execution_count": null,
   "id": "8e143380-9327-4669-9c72-60f527c95af1",
   "metadata": {},
   "outputs": [],
   "source": [
    "# Hàm trích xuất đặc trưng\n",
    "def extract_features(df):\n",
    "    df['Hour'] = df['Datetime'].dt.hour\n",
    "    df['Day'] = df['Datetime'].dt.day\n",
    "    df['Month'] = df['Datetime'].dt.month\n",
    "    df['Year'] = df['Datetime'].dt.year\n",
    "    df['DayOfWeek'] = df['Datetime'].dt.dayofweek\n",
    "    return df\n",
    "\n",
    "# Áp dụng trích xuất đặc trưng\n",
    "train_data = extract_features(train_data)\n",
    "test_data = extract_features(test_data)\n",
    "\n",
    "print(\"Dữ liệu train sau khi trích xuất đặc trưng:\")\n",
    "print(train_data.head())\n",
    "print(\"Dữ liệu test sau khi trích xuất đặc trưng:\")\n",
    "print(test_data.head())"
   ]
  },
  {
   "cell_type": "code",
   "execution_count": 32,
   "id": "5eceb467-3aa5-4dbe-9ab3-65ac896112f3",
   "metadata": {},
   "outputs": [
    {
     "name": "stdout",
     "output_type": "stream",
     "text": [
      "Dữ liệu train sau khi trích xuất đặc trưng:\n",
      "                 Datetime  AEP  DAYTON  DOM  EKPC  FE  PJM_Load_MW    PJMW  \\\n",
      "41630 2002-01-01 01:00:00  NaN     NaN  NaN   NaN NaN      30393.0  5038.0   \n",
      "41631 2002-01-01 02:00:00  NaN     NaN  NaN   NaN NaN      29265.0  5038.0   \n",
      "41632 2002-01-01 03:00:00  NaN     NaN  NaN   NaN NaN      28357.0  5038.0   \n",
      "41633 2002-01-01 04:00:00  NaN     NaN  NaN   NaN NaN      27899.0  5038.0   \n",
      "41634 2002-01-01 05:00:00  NaN     NaN  NaN   NaN NaN      28057.0  5038.0   \n",
      "\n",
      "       PJM_Load  Season  IsHoliday  IsWeekend  TimeOfDay   SinHour   CosHour  \n",
      "41630       NaN       3          1          0          3  0.258819  0.965926  \n",
      "41631       NaN       3          1          0          3  0.500000  0.866025  \n",
      "41632       NaN       3          1          0          3  0.707107  0.707107  \n",
      "41633       NaN       3          1          0          3  0.866025  0.500000  \n",
      "41634       NaN       3          1          0          0  0.965926  0.258819  \n",
      "Dữ liệu test sau khi trích xuất đặc trưng:\n",
      "                  Datetime  PJM_Load_MW  DEOK     DUQ  NI  Season  IsHoliday  \\\n",
      "120499 2011-01-01 01:00:00       9631.0   NaN  1389.0 NaN       3          1   \n",
      "120500 2011-01-01 02:00:00       9273.0   NaN  1322.0 NaN       3          1   \n",
      "120501 2011-01-01 03:00:00       9011.0   NaN  1287.0 NaN       3          1   \n",
      "120502 2011-01-01 04:00:00       8741.0   NaN  1263.0 NaN       3          1   \n",
      "120503 2011-01-01 05:00:00       8694.0   NaN  1252.0 NaN       3          1   \n",
      "\n",
      "        IsWeekend  TimeOfDay   SinHour   CosHour  \n",
      "120499          1          3  0.258819  0.965926  \n",
      "120500          1          3  0.500000  0.866025  \n",
      "120501          1          3  0.707107  0.707107  \n",
      "120502          1          3  0.866025  0.500000  \n",
      "120503          1          0  0.965926  0.258819  \n"
     ]
    }
   ],
   "source": [
    "# Khởi tạo đối tượng holidays cho Mỹ\n",
    "us_holidays = holidays.US()\n",
    "\n",
    "# Hàm trích xuất đặc trưng\n",
    "def extract_features(df):\n",
    "    # 1. Theo mùa\n",
    "    def get_season(month):\n",
    "        if month in [3, 4, 5]:\n",
    "            return 'Spring'\n",
    "        elif month in [6, 7, 8]:\n",
    "            return 'Summer'\n",
    "        elif month in [9, 10, 11]:\n",
    "            return 'Fall'\n",
    "        else:\n",
    "            return 'Winter'\n",
    "    \n",
    "    df['Season'] = df['Datetime'].dt.month.apply(get_season)\n",
    "    # Mã hóa Season thành số\n",
    "    season_mapping = {'Spring': 0, 'Summer': 1, 'Fall': 2, 'Winter': 3}\n",
    "    df['Season'] = df['Season'].map(season_mapping)\n",
    "\n",
    "    # 2. Ngày lễ\n",
    "    df['IsHoliday'] = df['Datetime'].dt.date.apply(lambda x: 1 if x in us_holidays else 0)\n",
    "\n",
    "    # 3. Ngày cuối tuần\n",
    "    df['IsWeekend'] = df['Datetime'].dt.dayofweek.apply(lambda x: 1 if x >= 5 else 0)\n",
    "\n",
    "    # 4. Thời gian trong ngày\n",
    "    def get_time_of_day(hour):\n",
    "        if 5 <= hour < 12:\n",
    "            return 'Morning'\n",
    "        elif 12 <= hour < 17:\n",
    "            return 'Afternoon'\n",
    "        elif 17 <= hour < 22:\n",
    "            return 'Evening'\n",
    "        else:\n",
    "            return 'Night'\n",
    "    \n",
    "    df['TimeOfDay'] = df['Datetime'].dt.hour.apply(get_time_of_day)\n",
    "    # Mã hóa TimeOfDay thành số\n",
    "    time_of_day_mapping = {'Morning': 0, 'Afternoon': 1, 'Evening': 2, 'Night': 3}\n",
    "    df['TimeOfDay'] = df['TimeOfDay'].map(time_of_day_mapping)\n",
    "\n",
    "    # 5. Chu kỳ thời gian (dùng sin và cos để biểu diễn giờ)\n",
    "    df['SinHour'] = df['Datetime'].dt.hour.apply(lambda x: math.sin(2 * math.pi * x / 24))\n",
    "    df['CosHour'] = df['Datetime'].dt.hour.apply(lambda x: math.cos(2 * math.pi * x / 24))\n",
    "\n",
    "    return df\n",
    "\n",
    "# Áp dụng trích xuất đặc trưng\n",
    "train_data = extract_features(train_data)\n",
    "test_data = extract_features(test_data)\n",
    "\n",
    "print(\"Dữ liệu train sau khi trích xuất đặc trưng:\")\n",
    "print(train_data.head())\n",
    "print(\"Dữ liệu test sau khi trích xuất đặc trưng:\")\n",
    "print(test_data.head())"
   ]
  },
  {
   "cell_type": "code",
   "execution_count": 33,
   "id": "ad17444c-7531-4eba-9fe9-d5b83d0e93c4",
   "metadata": {},
   "outputs": [
    {
     "name": "stdout",
     "output_type": "stream",
     "text": [
      "X_train shape: (145366, 13)\n",
      "y_train shape: (145366,)\n",
      "X_test shape: (66497, 9)\n",
      "y_test shape: (66497,)\n"
     ]
    }
   ],
   "source": [
    "# Danh sách các đặc trưng\n",
    "train_features = ['Season', 'IsHoliday', 'IsWeekend', 'TimeOfDay', 'SinHour', 'CosHour', 'AEP', 'DAYTON', 'DOM', 'EKPC', 'FE', 'PJMW', 'PJM_Load']\n",
    "test_features = ['Season', 'IsHoliday', 'IsWeekend', 'TimeOfDay', 'SinHour', 'CosHour', 'DEOK', 'DUQ', 'NI']\n",
    "\n",
    "# Chia dữ liệu thành X (đặc trưng) và y (mục tiêu)\n",
    "X_train = train_data[train_features]\n",
    "y_train = train_data['PJM_Load_MW']\n",
    "X_test = test_data[test_features]\n",
    "y_test = test_data['PJM_Load_MW']\n",
    "\n",
    "print(\"X_train shape:\", X_train.shape)\n",
    "print(\"y_train shape:\", y_train.shape)\n",
    "print(\"X_test shape:\", X_test.shape)\n",
    "print(\"y_test shape:\", y_test.shape)"
   ]
  }
 ],
 "metadata": {
  "kernelspec": {
   "display_name": "Python 3 (ipykernel)",
   "language": "python",
   "name": "python3"
  },
  "language_info": {
   "codemirror_mode": {
    "name": "ipython",
    "version": 3
   },
   "file_extension": ".py",
   "mimetype": "text/x-python",
   "name": "python",
   "nbconvert_exporter": "python",
   "pygments_lexer": "ipython3",
   "version": "3.12.6"
  }
 },
 "nbformat": 4,
 "nbformat_minor": 5
}
